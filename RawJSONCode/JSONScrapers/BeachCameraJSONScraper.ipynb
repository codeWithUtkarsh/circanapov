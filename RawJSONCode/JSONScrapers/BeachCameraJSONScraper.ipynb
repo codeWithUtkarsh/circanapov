{
 "cells": [
  {
   "cell_type": "code",
   "execution_count": 74,
   "id": "a53e4719",
   "metadata": {},
   "outputs": [],
   "source": [
    "import requests\n",
    "from bs4 import BeautifulSoup\n",
    "from scrapfly import ScrapflyClient, ScrapeConfig\n",
    "import re\n",
    "import json\n",
    "\n",
    "api_key = 'scp-live-01fc8534987042f4a2fe553c5cf6a2df'\n",
    "scrapfly = ScrapflyClient(key=api_key, max_concurrency=2)\n",
    "url = 'https://www.insight.com/en_US/shop/product/40AY0090US/lenovo/40AY0090US/Lenovo-ThinkPad-Universal-USBC-Dock-docking-station-USBC-HDMI-2-x-DP-GigE/'\n",
    "result = scrapfly.scrape(ScrapeConfig(\n",
    "    url=url,\n",
    "    render_js=True,\n",
    "    country=\"US\",\n",
    "    asp=True,\n",
    "    retry=False,\n",
    "    timeout=30000,\n",
    "    rendering_wait=5000\n",
    "))\n",
    "\n",
    "html_content = result.scrape_result['content']\n"
   ]
  },
  {
   "cell_type": "code",
   "execution_count": 75,
   "id": "dd979b4e",
   "metadata": {},
   "outputs": [],
   "source": [
    "def extract_json_from_html(html_content):\n",
    "    soup = BeautifulSoup(html_content, 'html.parser')\n",
    "    script_tags = soup.find_all('script')\n",
    "\n",
    "    json_data_list = []\n",
    "\n",
    "    for script in script_tags:\n",
    "        script_content = script.string\n",
    "        if script_content:\n",
    "            # Use a regular expression to find JSON-like content\n",
    "            json_pattern = re.compile(r'({.*})', re.DOTALL)\n",
    "            matches = json_pattern.findall(script_content)\n",
    "            for match in matches:\n",
    "                try:\n",
    "                    json_data = json.loads(match)\n",
    "                    json_data_list.append(json_data)\n",
    "                except json.JSONDecodeError:\n",
    "                    pass  # Ignore invalid JSON\n",
    "\n",
    "    return json_data_list\n",
    "\n",
    "json_data_list = extract_json_from_html(html_content)\n"
   ]
  },
  {
   "cell_type": "code",
   "execution_count": 70,
   "id": "32547382",
   "metadata": {},
   "outputs": [],
   "source": [
    "file_path = r'C:\\Users\\SudheerRChinthala\\circana\\Srikanth\\Data\\BeachCameraJSONData.json'\n",
    "with open(file_path, 'w') as json_file:\n",
    "    for json_data in json_data_list:\n",
    "        json.dump(json_data, json_file, indent=4)"
   ]
  },
  {
   "cell_type": "code",
   "execution_count": 76,
   "id": "ff3eb616",
   "metadata": {},
   "outputs": [
    {
     "data": {
      "text/plain": [
       "[{'GNA-11886-ADD-TO-CART-MODAL': True,\n",
       "  'GNA-13744-Search-Compare-Email-Feature': False,\n",
       "  'GNA-12085-GET-ALL-FLAGS': False,\n",
       "  'GNA-12386-DEFAULT-LOGGED-OUT': False,\n",
       "  'GNA-12439-CIAM-MIGRATION-PING-ONE-IDENTITY': False,\n",
       "  'GNA-12116-ROUTINE-ORDERS': True,\n",
       "  'GNA-12955-DISPLAY-INTSERV-FORT': False,\n",
       "  'GNA-10394-SHOPPING-CART': True,\n",
       "  'GNA-11032-SHARE-LINK': False,\n",
       "  'GNA-9998-IN-STOCK': True,\n",
       "  'GNA-7350-XIPAY': True,\n",
       "  'GNA-12003-SOLUTIONS-SERVICES-TAB': False,\n",
       "  'GNA-12366-SEARCH-MAP-PRICE-VERSION': True,\n",
       "  'GNA-9730-DEFAULT-LOGGEDOUT': True,\n",
       "  'GNA-9004-CS': True,\n",
       "  'GNA-13661-UTIL-VPA-PRICE-MATCH': False,\n",
       "  'FLAG-WEBGROUP': False,\n",
       "  'GNA-10276-FREIGHT-COST-CPI': False,\n",
       "  'GNA-12406-NPS-SURVEY': False,\n",
       "  'GNA-11161-POWERBI': False,\n",
       "  'GNA-8512-UCE-INVOICE-HISTORY': False,\n",
       "  'GNA-11699-PRODUCT-LIST-TILE': True,\n",
       "  'GNA-8751-Report-list-update': False,\n",
       "  'GNA-12643-PURCHASE-ANALYTICS': True,\n",
       "  'CES-26-GUEST-CHECKOUT': True,\n",
       "  'CES-1520-saved-lists': False,\n",
       "  'GNA-12357-HYBRIS-IMAGE-GOES-FIRST-ON-SEARCH': False,\n",
       "  'GNA-10568-ASYNC-VALIDATION': True,\n",
       "  'GNA-9984-UNUSED-REPORTS': True,\n",
       "  'GNA-10235-CANADA-FREIGHT-CPI': True,\n",
       "  'GNA-14246-FEDEX-REST-API': False,\n",
       "  'GNA-6591-Login': True,\n",
       "  'GNA-11673-SOLUTIONS-SEARCH': False,\n",
       "  'GNA-6612-DISABLE-ADDR-OPTIONS': False,\n",
       "  'GNA-11502-TYPEAHEAD-POC': False,\n",
       "  'GNA-12085-GET-ALL-FLAGS-2': False,\n",
       "  'GNA-13182-UPS-authentication-changes-for-Tracking-MSV': True,\n",
       "  'GNA-11686-CES-SHOPPING-CART': False,\n",
       "  'GNA-12965-SOLUTIONS-SERVICES-TAB': False,\n",
       "  'GNA-9531-Load-Gigya-WebSdk-Auth': False,\n",
       "  'GNA-11272-ADD-WARRANTY-MODAL': False,\n",
       "  'GNA-9328-CES-Account-Creation': True,\n",
       "  'GNA-8766-Third-Party-Warranty': True,\n",
       "  'GNA-11259-CART-TO-VIEWCART': True,\n",
       "  'GNA-9381-MANAGER-VIEW': True,\n",
       "  'GNA-8999-jQuery-upgrade': True,\n",
       "  'GNA-13761-Enhanced-Punchout-Experience': False,\n",
       "  'GNA-12455-HIDE-LOGGEDOUT-PRICING-BY-SALESORG': False,\n",
       "  'GNA-13914-REPORTING-MANAGEMENT': False,\n",
       "  'GNA-10010-CS-SINGLE-NONE': True,\n",
       "  'GNA-11542-UPFRONT-SR-VALIDATION': True,\n",
       "  'GNA-11089-DISABLE-PRICING': True,\n",
       "  'GNA-12965-SOLUTIONS-SEARCH': False,\n",
       "  'GNA-9004-CS-PRE': True,\n",
       "  'GNA-10706-jQuery-upgrade-legacy-insight': False,\n",
       "  'GNA-9332-DEFAULT-LOGGEDOUT': True,\n",
       "  'GNA-TEST-AEM-001': False,\n",
       "  'GNA-10671-APPLE-DEP-EMEA-EXPANSION': True,\n",
       "  'GNA-9696-TARGET-LOGGEDIN': False,\n",
       "  'GNA-12345-LOGGEDOUT-E4-IPS': False,\n",
       "  'GNA-11926-NEW-WEB-PRICING': True,\n",
       "  'GNA-8679-APPLE-DEP-B2B': False,\n",
       "  'GNA-9532-Remove-Gigya-Cookie': False,\n",
       "  'GNA-12142-HYBRID-EXPERIENCE': False,\n",
       "  'GNA-13095-REVIEWS-AND-RATINGS': False},\n",
       " {}]"
      ]
     },
     "execution_count": 76,
     "metadata": {},
     "output_type": "execute_result"
    }
   ],
   "source": [
    "json_data_list"
   ]
  },
  {
   "cell_type": "code",
   "execution_count": null,
   "id": "b71cd235",
   "metadata": {},
   "outputs": [],
   "source": []
  }
 ],
 "metadata": {
  "kernelspec": {
   "display_name": "Python 3 (ipykernel)",
   "language": "python",
   "name": "python3"
  },
  "language_info": {
   "codemirror_mode": {
    "name": "ipython",
    "version": 3
   },
   "file_extension": ".py",
   "mimetype": "text/x-python",
   "name": "python",
   "nbconvert_exporter": "python",
   "pygments_lexer": "ipython3",
   "version": "3.11.5"
  }
 },
 "nbformat": 4,
 "nbformat_minor": 5
}
