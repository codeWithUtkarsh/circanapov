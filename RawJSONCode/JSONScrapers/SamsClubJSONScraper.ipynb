{
 "cells": [
  {
   "cell_type": "code",
   "execution_count": 1,
   "id": "a53e4719",
   "metadata": {},
   "outputs": [],
   "source": [
    "import requests\n",
    "from bs4 import BeautifulSoup\n",
    "from scrapfly import ScrapflyClient, ScrapeConfig\n",
    "import re\n",
    "import json\n",
    "\n",
    "api_key = 'scp-live-01fc8534987042f4a2fe553c5cf6a2df'\n",
    "scrapfly = ScrapflyClient(key=api_key, max_concurrency=2)\n",
    "url = 'https://www.samsclub.com/p/P03016455'\n",
    "result = scrapfly.scrape(ScrapeConfig(\n",
    "    url=url,\n",
    "    render_js=True,\n",
    "    country=\"US\",\n",
    "    asp=True,\n",
    "    retry=False,\n",
    "    timeout=30000,\n",
    "    rendering_wait=5000\n",
    "))\n",
    "\n",
    "html_content = result.scrape_result['content']\n"
   ]
  },
  {
   "cell_type": "code",
   "execution_count": 2,
   "id": "dd979b4e",
   "metadata": {},
   "outputs": [],
   "source": [
    "def extract_json_from_html(html_content):\n",
    "    soup = BeautifulSoup(html_content, 'html.parser')\n",
    "    script_tags = soup.find_all('script')\n",
    "\n",
    "    json_data_list = []\n",
    "\n",
    "    for script in script_tags:\n",
    "        script_content = script.string\n",
    "        if script_content:\n",
    "            # Use a regular expression to find JSON-like content\n",
    "            json_pattern = re.compile(r'({.*})', re.DOTALL)\n",
    "            matches = json_pattern.findall(script_content)\n",
    "            for match in matches:\n",
    "                try:\n",
    "                    json_data = json.loads(match)\n",
    "                    json_data_list.append(json_data)\n",
    "                except json.JSONDecodeError:\n",
    "                    pass  # Ignore invalid JSON\n",
    "\n",
    "    return json_data_list\n",
    "\n",
    "json_data_list = extract_json_from_html(html_content)\n"
   ]
  },
  {
   "cell_type": "code",
   "execution_count": 4,
   "id": "32547382",
   "metadata": {},
   "outputs": [],
   "source": [
    "file_path = r'C:\\Users\\SudheerRChinthala\\circana\\Srikanth\\Data\\SamsClubJSONData.json'\n",
    "with open(file_path, 'w') as json_file:\n",
    "    for json_data in json_data_list:\n",
    "        json.dump(json_data, json_file, indent=4)"
   ]
  },
  {
   "cell_type": "code",
   "execution_count": null,
   "id": "6491e3aa",
   "metadata": {},
   "outputs": [],
   "source": []
  }
 ],
 "metadata": {
  "kernelspec": {
   "display_name": "Python 3 (ipykernel)",
   "language": "python",
   "name": "python3"
  },
  "language_info": {
   "codemirror_mode": {
    "name": "ipython",
    "version": 3
   },
   "file_extension": ".py",
   "mimetype": "text/x-python",
   "name": "python",
   "nbconvert_exporter": "python",
   "pygments_lexer": "ipython3",
   "version": "3.11.5"
  }
 },
 "nbformat": 4,
 "nbformat_minor": 5
}
