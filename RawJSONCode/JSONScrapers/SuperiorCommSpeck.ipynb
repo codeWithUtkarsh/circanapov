{
 "cells": [
  {
   "cell_type": "code",
   "execution_count": 107,
   "id": "a53e4719",
   "metadata": {},
   "outputs": [
    {
     "name": "stderr",
     "output_type": "stream",
     "text": [
      "CRITICAL:root:<-- 422 | ERR::ASP::SHIELD_PROTECTION_FAILED - The ASP shield failed to solve the challenge against the anti scrapping protection - Unable to bypass akamai, please retry in few seconds. Checkout the related doc: https://scrapfly.io/docs/scrape-api/anti-scraping-protection#maximize_success_rate\n"
     ]
    },
    {
     "ename": "ScrapflyAspError",
     "evalue": "<-- 422 | ERR::ASP::SHIELD_PROTECTION_FAILED - The ASP shield failed to solve the challenge against the anti scrapping protection - Unable to bypass akamai, please retry in few seconds. Checkout the related doc: https://scrapfly.io/docs/scrape-api/anti-scraping-protection#maximize_success_rate",
     "output_type": "error",
     "traceback": [
      "\u001b[1;31m---------------------------------------------------------------------------\u001b[0m",
      "\u001b[1;31mScrapflyAspError\u001b[0m                          Traceback (most recent call last)",
      "Cell \u001b[1;32mIn[107], line 10\u001b[0m\n\u001b[0;32m      8\u001b[0m scrapfly \u001b[38;5;241m=\u001b[39m ScrapflyClient(key\u001b[38;5;241m=\u001b[39mapi_key, max_concurrency\u001b[38;5;241m=\u001b[39m\u001b[38;5;241m2\u001b[39m)\n\u001b[0;32m      9\u001b[0m url \u001b[38;5;241m=\u001b[39m \u001b[38;5;124m'\u001b[39m\u001b[38;5;124mhttps://www.zones.com/site/product/index.html?id=108519667\u001b[39m\u001b[38;5;124m'\u001b[39m\n\u001b[1;32m---> 10\u001b[0m result \u001b[38;5;241m=\u001b[39m scrapfly\u001b[38;5;241m.\u001b[39mscrape(ScrapeConfig(\n\u001b[0;32m     11\u001b[0m     url\u001b[38;5;241m=\u001b[39murl,\n\u001b[0;32m     12\u001b[0m     render_js\u001b[38;5;241m=\u001b[39m\u001b[38;5;28;01mTrue\u001b[39;00m,\n\u001b[0;32m     13\u001b[0m     country\u001b[38;5;241m=\u001b[39m\u001b[38;5;124m\"\u001b[39m\u001b[38;5;124mUS\u001b[39m\u001b[38;5;124m\"\u001b[39m,\n\u001b[0;32m     14\u001b[0m     asp\u001b[38;5;241m=\u001b[39m\u001b[38;5;28;01mTrue\u001b[39;00m,\n\u001b[0;32m     15\u001b[0m     retry\u001b[38;5;241m=\u001b[39m\u001b[38;5;28;01mFalse\u001b[39;00m,\n\u001b[0;32m     16\u001b[0m     timeout\u001b[38;5;241m=\u001b[39m\u001b[38;5;241m30000\u001b[39m,\n\u001b[0;32m     17\u001b[0m     rendering_wait\u001b[38;5;241m=\u001b[39m\u001b[38;5;241m10000\u001b[39m\n\u001b[0;32m     18\u001b[0m ))\n\u001b[0;32m     20\u001b[0m html_content \u001b[38;5;241m=\u001b[39m result\u001b[38;5;241m.\u001b[39mscrape_result[\u001b[38;5;124m'\u001b[39m\u001b[38;5;124mcontent\u001b[39m\u001b[38;5;124m'\u001b[39m]\n",
      "File \u001b[1;32m~\\anaconda3\\Lib\\site-packages\\backoff\\_sync.py:105\u001b[0m, in \u001b[0;36mretry_exception.<locals>.retry\u001b[1;34m(*args, **kwargs)\u001b[0m\n\u001b[0;32m     96\u001b[0m details \u001b[38;5;241m=\u001b[39m {\n\u001b[0;32m     97\u001b[0m     \u001b[38;5;124m\"\u001b[39m\u001b[38;5;124mtarget\u001b[39m\u001b[38;5;124m\"\u001b[39m: target,\n\u001b[0;32m     98\u001b[0m     \u001b[38;5;124m\"\u001b[39m\u001b[38;5;124margs\u001b[39m\u001b[38;5;124m\"\u001b[39m: args,\n\u001b[1;32m   (...)\u001b[0m\n\u001b[0;32m    101\u001b[0m     \u001b[38;5;124m\"\u001b[39m\u001b[38;5;124melapsed\u001b[39m\u001b[38;5;124m\"\u001b[39m: elapsed,\n\u001b[0;32m    102\u001b[0m }\n\u001b[0;32m    104\u001b[0m \u001b[38;5;28;01mtry\u001b[39;00m:\n\u001b[1;32m--> 105\u001b[0m     ret \u001b[38;5;241m=\u001b[39m target(\u001b[38;5;241m*\u001b[39margs, \u001b[38;5;241m*\u001b[39m\u001b[38;5;241m*\u001b[39mkwargs)\n\u001b[0;32m    106\u001b[0m \u001b[38;5;28;01mexcept\u001b[39;00m exception \u001b[38;5;28;01mas\u001b[39;00m e:\n\u001b[0;32m    107\u001b[0m     max_tries_exceeded \u001b[38;5;241m=\u001b[39m (tries \u001b[38;5;241m==\u001b[39m max_tries_value)\n",
      "File \u001b[1;32m~\\anaconda3\\Lib\\site-packages\\scrapfly\\client.py:419\u001b[0m, in \u001b[0;36mScrapflyClient.scrape\u001b[1;34m(self, scrape_config, no_raise)\u001b[0m\n\u001b[0;32m    416\u001b[0m \u001b[38;5;28;01mif\u001b[39;00m no_raise \u001b[38;5;129;01mand\u001b[39;00m \u001b[38;5;28misinstance\u001b[39m(e, ScrapflyError) \u001b[38;5;129;01mand\u001b[39;00m e\u001b[38;5;241m.\u001b[39mapi_response \u001b[38;5;129;01mis\u001b[39;00m \u001b[38;5;129;01mnot\u001b[39;00m \u001b[38;5;28;01mNone\u001b[39;00m:\n\u001b[0;32m    417\u001b[0m     \u001b[38;5;28;01mreturn\u001b[39;00m e\u001b[38;5;241m.\u001b[39mapi_response\n\u001b[1;32m--> 419\u001b[0m \u001b[38;5;28;01mraise\u001b[39;00m e\n",
      "File \u001b[1;32m~\\anaconda3\\Lib\\site-packages\\scrapfly\\client.py:408\u001b[0m, in \u001b[0;36mScrapflyClient.scrape\u001b[1;34m(self, scrape_config, no_raise)\u001b[0m\n\u001b[0;32m    406\u001b[0m request_data \u001b[38;5;241m=\u001b[39m \u001b[38;5;28mself\u001b[39m\u001b[38;5;241m.\u001b[39m_scrape_request(scrape_config\u001b[38;5;241m=\u001b[39mscrape_config)\n\u001b[0;32m    407\u001b[0m response \u001b[38;5;241m=\u001b[39m \u001b[38;5;28mself\u001b[39m\u001b[38;5;241m.\u001b[39m_http_handler(\u001b[38;5;241m*\u001b[39m\u001b[38;5;241m*\u001b[39mrequest_data)\n\u001b[1;32m--> 408\u001b[0m scrape_api_response \u001b[38;5;241m=\u001b[39m \u001b[38;5;28mself\u001b[39m\u001b[38;5;241m.\u001b[39m_handle_response(response\u001b[38;5;241m=\u001b[39mresponse, scrape_config\u001b[38;5;241m=\u001b[39mscrape_config)\n\u001b[0;32m    410\u001b[0m \u001b[38;5;28mself\u001b[39m\u001b[38;5;241m.\u001b[39mreporter\u001b[38;5;241m.\u001b[39mreport(scrape_api_response\u001b[38;5;241m=\u001b[39mscrape_api_response)\n\u001b[0;32m    412\u001b[0m \u001b[38;5;28;01mreturn\u001b[39;00m scrape_api_response\n",
      "File \u001b[1;32m~\\anaconda3\\Lib\\site-packages\\scrapfly\\client.py:423\u001b[0m, in \u001b[0;36mScrapflyClient._handle_response\u001b[1;34m(self, response, scrape_config)\u001b[0m\n\u001b[0;32m    421\u001b[0m \u001b[38;5;28;01mdef\u001b[39;00m \u001b[38;5;21m_handle_response\u001b[39m(\u001b[38;5;28mself\u001b[39m, response:Response, scrape_config:ScrapeConfig) \u001b[38;5;241m-\u001b[39m\u001b[38;5;241m>\u001b[39m ScrapeApiResponse:\n\u001b[0;32m    422\u001b[0m     \u001b[38;5;28;01mtry\u001b[39;00m:\n\u001b[1;32m--> 423\u001b[0m         api_response \u001b[38;5;241m=\u001b[39m \u001b[38;5;28mself\u001b[39m\u001b[38;5;241m.\u001b[39m_handle_api_response(\n\u001b[0;32m    424\u001b[0m             response\u001b[38;5;241m=\u001b[39mresponse,\n\u001b[0;32m    425\u001b[0m             scrape_config\u001b[38;5;241m=\u001b[39mscrape_config,\n\u001b[0;32m    426\u001b[0m             raise_on_upstream_error\u001b[38;5;241m=\u001b[39mscrape_config\u001b[38;5;241m.\u001b[39mraise_on_upstream_error\n\u001b[0;32m    427\u001b[0m         )\n\u001b[0;32m    429\u001b[0m         \u001b[38;5;28;01mif\u001b[39;00m scrape_config\u001b[38;5;241m.\u001b[39mmethod \u001b[38;5;241m==\u001b[39m \u001b[38;5;124m'\u001b[39m\u001b[38;5;124mHEAD\u001b[39m\u001b[38;5;124m'\u001b[39m:\n\u001b[0;32m    430\u001b[0m             logger\u001b[38;5;241m.\u001b[39mdebug(\u001b[38;5;124m'\u001b[39m\u001b[38;5;124m<-- [\u001b[39m\u001b[38;5;132;01m%s\u001b[39;00m\u001b[38;5;124m \u001b[39m\u001b[38;5;132;01m%s\u001b[39;00m\u001b[38;5;124m] \u001b[39m\u001b[38;5;132;01m%s\u001b[39;00m\u001b[38;5;124m | \u001b[39m\u001b[38;5;132;01m%s\u001b[39;00m\u001b[38;5;124ms\u001b[39m\u001b[38;5;124m'\u001b[39m \u001b[38;5;241m%\u001b[39m (\n\u001b[0;32m    431\u001b[0m                 api_response\u001b[38;5;241m.\u001b[39mresponse\u001b[38;5;241m.\u001b[39mstatus_code,\n\u001b[0;32m    432\u001b[0m                 api_response\u001b[38;5;241m.\u001b[39mresponse\u001b[38;5;241m.\u001b[39mreason,\n\u001b[0;32m    433\u001b[0m                 api_response\u001b[38;5;241m.\u001b[39mresponse\u001b[38;5;241m.\u001b[39mrequest\u001b[38;5;241m.\u001b[39murl,\n\u001b[0;32m    434\u001b[0m                 \u001b[38;5;241m0\u001b[39m\n\u001b[0;32m    435\u001b[0m             ))\n",
      "File \u001b[1;32m~\\anaconda3\\Lib\\site-packages\\scrapfly\\client.py:605\u001b[0m, in \u001b[0;36mScrapflyClient._handle_api_response\u001b[1;34m(self, response, scrape_config, raise_on_upstream_error)\u001b[0m\n\u001b[0;32m    596\u001b[0m         body \u001b[38;5;241m=\u001b[39m response\u001b[38;5;241m.\u001b[39mcontent\u001b[38;5;241m.\u001b[39mdecode(\u001b[38;5;124m'\u001b[39m\u001b[38;5;124mutf-8\u001b[39m\u001b[38;5;124m'\u001b[39m)\n\u001b[0;32m    598\u001b[0m api_response:ScrapeApiResponse \u001b[38;5;241m=\u001b[39m ScrapeApiResponse(\n\u001b[0;32m    599\u001b[0m     response\u001b[38;5;241m=\u001b[39mresponse,\n\u001b[0;32m    600\u001b[0m     request\u001b[38;5;241m=\u001b[39mresponse\u001b[38;5;241m.\u001b[39mrequest,\n\u001b[0;32m    601\u001b[0m     api_result\u001b[38;5;241m=\u001b[39mbody,\n\u001b[0;32m    602\u001b[0m     scrape_config\u001b[38;5;241m=\u001b[39mscrape_config\n\u001b[0;32m    603\u001b[0m )\n\u001b[1;32m--> 605\u001b[0m api_response\u001b[38;5;241m.\u001b[39mraise_for_result(raise_on_upstream_error\u001b[38;5;241m=\u001b[39mraise_on_upstream_error)\n\u001b[0;32m    607\u001b[0m \u001b[38;5;28;01mreturn\u001b[39;00m api_response\n",
      "File \u001b[1;32m~\\anaconda3\\Lib\\site-packages\\scrapfly\\api_response.py:435\u001b[0m, in \u001b[0;36mScrapeApiResponse.raise_for_result\u001b[1;34m(self, raise_on_upstream_error)\u001b[0m\n\u001b[0;32m    433\u001b[0m         \u001b[38;5;28;01mraise\u001b[39;00m error\n\u001b[0;32m    434\u001b[0m \u001b[38;5;28;01melse\u001b[39;00m:\n\u001b[1;32m--> 435\u001b[0m     \u001b[38;5;28;01mraise\u001b[39;00m error\n",
      "\u001b[1;31mScrapflyAspError\u001b[0m: <-- 422 | ERR::ASP::SHIELD_PROTECTION_FAILED - The ASP shield failed to solve the challenge against the anti scrapping protection - Unable to bypass akamai, please retry in few seconds. Checkout the related doc: https://scrapfly.io/docs/scrape-api/anti-scraping-protection#maximize_success_rate"
     ]
    }
   ],
   "source": [
    "import requests\n",
    "from bs4 import BeautifulSoup\n",
    "from scrapfly import ScrapflyClient, ScrapeConfig\n",
    "import re\n",
    "import json\n",
    "\n",
    "api_key = 'scp-live-01fc8534987042f4a2fe553c5cf6a2df'\n",
    "scrapfly = ScrapflyClient(key=api_key, max_concurrency=2)\n",
    "url = 'https://www.zones.com/site/product/index.html?id=108519667'\n",
    "result = scrapfly.scrape(ScrapeConfig(\n",
    "    url=url,\n",
    "    render_js=True,\n",
    "    country=\"US\",\n",
    "    asp=True,\n",
    "    retry=False,\n",
    "    timeout=30000,\n",
    "    rendering_wait=10000\n",
    "))\n",
    "\n",
    "html_content = result.scrape_result['content']\n"
   ]
  },
  {
   "cell_type": "code",
   "execution_count": 102,
   "id": "dd979b4e",
   "metadata": {},
   "outputs": [],
   "source": [
    "def extract_json_from_html(html_content):\n",
    "    soup = BeautifulSoup(html_content, 'html.parser')\n",
    "    script_tags = soup.find_all('script')\n",
    "\n",
    "    json_data_list = []\n",
    "\n",
    "    for script in script_tags:\n",
    "        script_content = script.string\n",
    "        if script_content:\n",
    "            # Use a regular expression to find JSON-like content\n",
    "            json_pattern = re.compile(r'({.*})', re.DOTALL)\n",
    "            matches = json_pattern.findall(script_content)\n",
    "            for match in matches:\n",
    "                try:\n",
    "                    json_data = json.loads(match)\n",
    "                    json_data_list.append(json_data)\n",
    "                except json.JSONDecodeError:\n",
    "                    pass  # Ignore invalid JSON\n",
    "\n",
    "    return json_data_list\n",
    "\n",
    "json_data_list = extract_json_from_html(html_content)\n"
   ]
  },
  {
   "cell_type": "code",
   "execution_count": 104,
   "id": "32547382",
   "metadata": {},
   "outputs": [],
   "source": [
    "file_path = r'C:\\Users\\SudheerRChinthala\\circana\\Srikanth\\Data\\SuperiorCommSpeckJSONData.json'\n",
    "with open(file_path, 'w') as json_file:\n",
    "    for json_data in json_data_list:\n",
    "        json.dump(json_data, json_file, indent=4)"
   ]
  },
  {
   "cell_type": "code",
   "execution_count": 103,
   "id": "ff3eb616",
   "metadata": {},
   "outputs": [
    {
     "data": {
      "text/plain": [
       "[{'shopId': 32542523523,\n",
       "  'countryCode': 'US',\n",
       "  'currencyCode': 'USD',\n",
       "  'merchantCapabilities': ['supports3DS'],\n",
       "  'merchantId': 'gid://shopify/Shop/32542523523',\n",
       "  'merchantName': 'Speck Products',\n",
       "  'requiredBillingContactFields': ['postalAddress', 'email', 'phone'],\n",
       "  'requiredShippingContactFields': ['postalAddress', 'email', 'phone'],\n",
       "  'shippingType': 'shipping',\n",
       "  'supportedNetworks': ['visa',\n",
       "   'masterCard',\n",
       "   'amex',\n",
       "   'discover',\n",
       "   'elo',\n",
       "   'jcb'],\n",
       "  'total': {'type': 'pending', 'label': 'Speck Products', 'amount': '1.00'},\n",
       "  'shopifyPaymentsEnabled': True,\n",
       "  'supportsSubscriptions': True},\n",
       " {'accessToken': 'ef87e758aa77b0562673b1a8297b4e13',\n",
       "  'betas': ['rich-media-storefront-analytics'],\n",
       "  'domain': 'speckproducts.com',\n",
       "  'predictiveSearch': True,\n",
       "  'shopId': 32542523523,\n",
       "  'smart_payment_buttons_url': 'https://speckproducts.com/cdn/shopifycloud/payment-sheet/assets/latest/spb.en.js',\n",
       "  'dynamic_checkout_cart_url': 'https://speckproducts.com/cdn/shopifycloud/payment-sheet/assets/latest/dynamic-checkout-cart.en.js',\n",
       "  'locale': 'en'},\n",
       " {},\n",
       " {'pageType': 'product'},\n",
       " {'a': 32542523523,\n",
       "  'offset': -25200,\n",
       "  'reqid': '31a95ba6-4ca5-4554-8802-ed58eb4613a0-1727528806',\n",
       "  'pageurl': 'speckproducts.com/products/presidio-perfect-clear-fold-samsung-galaxy-z-fold-6-cases',\n",
       "  'u': '39c533bbce8f',\n",
       "  'p': 'product',\n",
       "  'rtyp': 'product',\n",
       "  'rid': 8372967211139},\n",
       " {'@context': 'https://schema.org',\n",
       "  '@id': 'https://speckproducts.com/products/presidio-perfect-clear-fold-samsung-galaxy-z-fold-6-cases',\n",
       "  '@type': 'Product',\n",
       "  'sku': '150680-5085',\n",
       "  'mpn': '150680-5085',\n",
       "  'brand': {'@type': 'Brand', 'name': 'Samsung'},\n",
       "  'description': 'Presidio® Perfect-Clear Fold is our most clear protective case that we’ve ever designed. Our innovative new Perfect-Clear coating resists yellowing and discoloration for a case that stays clear longer and provides more protection and durability. Our new smart, foldable one-piece design keeps up with you: moving seamlessly with your phone, it adds more security and protection while ensuring your phone opens and closes easily with an extra secure fit for life on the go.\\r\\nFeaturing a quick-access groove, you don’t have to worry about your fingers slipping while trying to open your case. This groove is perfectly placed for ease of use.\\r\\nNot only is this case stylish, but our clear impact technology makes it tough for rough moments. Our proprietary, clear phone-cushioning rubber compresses on impact to protect your phone while the case is open when dropped up to 13 feet. Durable yet slim, this case allows for easy, seamless wireless charging. Tested to withstand real-life situations, including extreme drops, chemicals, and antenna interference.\\r\\nIt also has a built-in antimicrobial treatment from Microban® that delivers a 99% reduction in stain and odor-causing bacteria on the case, creating a cleaner surface.\\r\\nIf that wasn’t enough, it also features our raised bezel. This added edge helps protect your screen from scratching and shattering if, and/or when your phone falls and lands face-down.',\n",
       "  'url': 'https://speckproducts.com/products/presidio-perfect-clear-fold-samsung-galaxy-z-fold-6-cases',\n",
       "  'name': 'Presidio Perfect-Clear Fold Samsung Galaxy Z Fold 6 Cases',\n",
       "  'image': 'https://speckproducts.com/cdn/shop/files/speck-presidio-perfect-clear-fold-samsung-galaxy-z-fold-6-cases-galaxy-z-fold-6-clear-150680-5085-phone-case-41030181093507.jpg?v=1726321618&width=1024',\n",
       "  'offers': [{'@type': 'Offer',\n",
       "    'availability': 'https://schema.org/InStock',\n",
       "    'itemCondition': 'https://schema.org/NewCondition',\n",
       "    'priceCurrency': 'USD',\n",
       "    'price': '59.99',\n",
       "    'priceValidUntil': '2025-09-28',\n",
       "    'url': 'https://speckproducts.com/products/presidio-perfect-clear-fold-samsung-galaxy-z-fold-6-cases?variant=44543257280643',\n",
       "    'checkoutPageURLTemplate': 'https://speckproducts.com/cart/add?id=44543257280643&quantity=1',\n",
       "    'image': 'https://speckproducts.com/cdn/shop/files/speck-presidio-perfect-clear-fold-samsung-galaxy-z-fold-6-cases-galaxy-z-fold-6-clear-150680-5085-phone-case-41030181093507.jpg?v=1726321618&width=1024',\n",
       "    'mpn': '150680-5085',\n",
       "    'sku': '150680-5085',\n",
       "    'gtin12': '840168540204',\n",
       "    'seller': {'@type': 'Organization', 'name': 'Speck Products'}}]},\n",
       " {'@context': 'http://schema.org',\n",
       "  '@type': 'BreadcrumbList',\n",
       "  'name': 'Breadcrumbs',\n",
       "  'itemListElement': [{'@type': 'ListItem',\n",
       "    'position': 1,\n",
       "    'name': 'Presidio Perfect-Clear Fold Samsung Galaxy Z Fold 6 Cases',\n",
       "    'item': 'https://speckproducts.com/products/presidio-perfect-clear-fold-samsung-galaxy-z-fold-6-cases'}]},\n",
       " {}]"
      ]
     },
     "execution_count": 103,
     "metadata": {},
     "output_type": "execute_result"
    }
   ],
   "source": [
    "json_data_list"
   ]
  },
  {
   "cell_type": "code",
   "execution_count": null,
   "id": "b71cd235",
   "metadata": {},
   "outputs": [],
   "source": []
  }
 ],
 "metadata": {
  "kernelspec": {
   "display_name": "Python 3 (ipykernel)",
   "language": "python",
   "name": "python3"
  },
  "language_info": {
   "codemirror_mode": {
    "name": "ipython",
    "version": 3
   },
   "file_extension": ".py",
   "mimetype": "text/x-python",
   "name": "python",
   "nbconvert_exporter": "python",
   "pygments_lexer": "ipython3",
   "version": "3.11.5"
  }
 },
 "nbformat": 4,
 "nbformat_minor": 5
}
