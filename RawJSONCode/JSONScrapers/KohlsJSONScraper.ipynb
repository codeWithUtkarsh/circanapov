{
 "cells": [
  {
   "cell_type": "code",
   "execution_count": 15,
   "id": "a53e4719",
   "metadata": {},
   "outputs": [],
   "source": [
    "import requests\n",
    "from bs4 import BeautifulSoup\n",
    "from scrapfly import ScrapflyClient, ScrapeConfig\n",
    "import re\n",
    "import json\n",
    "\n",
    "api_key = 'scp-live-01fc8534987042f4a2fe553c5cf6a2df'\n",
    "scrapfly = ScrapflyClient(key=api_key, max_concurrency=2)\n",
    "url = 'https://www.kohls.com/search.jsp?submit-search=web-regular&search=888783791953'\n",
    "result = scrapfly.scrape(ScrapeConfig(\n",
    "    url=url,\n",
    "    render_js=True,\n",
    "    country=\"US\",\n",
    "    asp=True,\n",
    "    retry=False,\n",
    "    timeout=30000,\n",
    "    rendering_wait=5000\n",
    "))\n",
    "\n",
    "html_content = result.scrape_result['content']\n"
   ]
  },
  {
   "cell_type": "code",
   "execution_count": 16,
   "id": "dd979b4e",
   "metadata": {},
   "outputs": [],
   "source": [
    "def extract_json_from_html(html_content):\n",
    "    soup = BeautifulSoup(html_content, 'html.parser')\n",
    "    script_tags = soup.find_all('script')\n",
    "\n",
    "    json_data_list = []\n",
    "\n",
    "    for script in script_tags:\n",
    "        script_content = script.string\n",
    "        if script_content:\n",
    "            # Use a regular expression to find JSON-like content\n",
    "            json_pattern = re.compile(r'({.*})', re.DOTALL)\n",
    "            matches = json_pattern.findall(script_content)\n",
    "            for match in matches:\n",
    "                try:\n",
    "                    json_data = json.loads(match)\n",
    "                    json_data_list.append(json_data)\n",
    "                except json.JSONDecodeError:\n",
    "                    pass  # Ignore invalid JSON\n",
    "\n",
    "    return json_data_list\n",
    "\n",
    "json_data_list = extract_json_from_html(html_content)\n"
   ]
  },
  {
   "cell_type": "code",
   "execution_count": 8,
   "id": "32547382",
   "metadata": {},
   "outputs": [],
   "source": [
    "file_path = r'C:\\Users\\SudheerRChinthala\\circana\\Srikanth\\Data\\nfmJSONData.json'\n",
    "with open(file_path, 'w') as json_file:\n",
    "    for json_data in json_data_list:\n",
    "        json.dump(json_data, json_file, indent=4)"
   ]
  },
  {
   "cell_type": "code",
   "execution_count": 17,
   "id": "ff3eb616",
   "metadata": {},
   "outputs": [
    {
     "data": {
      "text/plain": [
       "[{'rua.upush': 'false',\n",
       "  'rua.cpush': 'false',\n",
       "  'rua.upre': 'false',\n",
       "  'rua.cpre': 'false',\n",
       "  'rua.uprl': 'false',\n",
       "  'rua.cprl': 'false',\n",
       "  'rua.cprf': 'false',\n",
       "  'rua.trans': 'SJ-5d8f2dca-5d96-4680-a06b-75929e28acb2',\n",
       "  'rua.cook': 'true',\n",
       "  'rua.ims': 'false',\n",
       "  'rua.ufprl': 'false',\n",
       "  'rua.cfprl': 'false',\n",
       "  'rua.isuxp': 'false',\n",
       "  'rua.texp': 'norulematch'},\n",
       " {'standard': 'kohlscomprod',\n",
       "  'mobile': 'kohlsgnmobilewebqa',\n",
       "  'native': 'kohlsnativeappqa1',\n",
       "  'tablet': 'kohlsgntabletwebqa'},\n",
       " {'@context': 'http://schema.org',\n",
       "  '@type': 'BreadcrumbList',\n",
       "  'itemListElement': [{'@type': 'ListItem',\n",
       "    'position': 1,\n",
       "    'item': {'@id': 'https://www.kohls.com', 'name': \"Kohl's\"}},\n",
       "   {'@type': 'ListItem',\n",
       "    'position': 2,\n",
       "    'item': {'@id': 'https://www.kohls.com/catalog/electronics.jsp?CN=Department:Electronics',\n",
       "     'name': 'Electronics'}},\n",
       "   {'@type': 'ListItem',\n",
       "    'position': 3,\n",
       "    'item': {'@id': 'https://www.kohls.com/catalog/electronics-accessories-electronics.jsp?CN=Category:Electronics%20Accessories+Department:Electronics',\n",
       "     'name': 'Electronics Accessories'}},\n",
       "   {'@type': 'ListItem',\n",
       "    'position': 4,\n",
       "    'item': {'@id': 'https://www.kohls.com/catalog/cases-electronics-accessories-electronics.jsp?CN=Product:Cases+Category:Electronics%20Accessories+Department:Electronics',\n",
       "     'name': 'Cases'}},\n",
       "   {'@type': 'ListItem',\n",
       "    'position': 5,\n",
       "    'item': {'@id': 'https://www.kohls.com/catalog/new-balance.jsp?CN=Brand:New%20Balance',\n",
       "     'name': 'New Balance'}}]}]"
      ]
     },
     "execution_count": 17,
     "metadata": {},
     "output_type": "execute_result"
    }
   ],
   "source": [
    "json_data_list"
   ]
  },
  {
   "cell_type": "code",
   "execution_count": null,
   "id": "b71cd235",
   "metadata": {},
   "outputs": [],
   "source": []
  }
 ],
 "metadata": {
  "kernelspec": {
   "display_name": "Python 3 (ipykernel)",
   "language": "python",
   "name": "python3"
  },
  "language_info": {
   "codemirror_mode": {
    "name": "ipython",
    "version": 3
   },
   "file_extension": ".py",
   "mimetype": "text/x-python",
   "name": "python",
   "nbconvert_exporter": "python",
   "pygments_lexer": "ipython3",
   "version": "3.11.5"
  }
 },
 "nbformat": 4,
 "nbformat_minor": 5
}
