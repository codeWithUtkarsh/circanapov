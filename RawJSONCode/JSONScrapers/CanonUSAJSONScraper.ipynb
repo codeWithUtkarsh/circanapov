{
 "cells": [
  {
   "cell_type": "code",
   "execution_count": 56,
   "id": "a53e4719",
   "metadata": {},
   "outputs": [],
   "source": [
    "import requests\n",
    "from bs4 import BeautifulSoup\n",
    "from scrapfly import ScrapflyClient, ScrapeConfig\n",
    "import re\n",
    "import json\n",
    "\n",
    "api_key = 'scp-live-01fc8534987042f4a2fe553c5cf6a2df'\n",
    "scrapfly = ScrapflyClient(key=api_key, max_concurrency=2)\n",
    "url = 'https://www.usa.canon.com/shop/p/eos-r100-rf-s18-45mm-f4-5-6-3-is-stm-lens-kit'\n",
    "result = scrapfly.scrape(ScrapeConfig(\n",
    "    url=url,\n",
    "    render_js=True,\n",
    "    country=\"US\",\n",
    "    asp=True,\n",
    "    retry=False,\n",
    "    timeout=30000,\n",
    "    rendering_wait=5000\n",
    "))\n",
    "\n",
    "html_content = result.scrape_result['content']\n"
   ]
  },
  {
   "cell_type": "code",
   "execution_count": 57,
   "id": "dd979b4e",
   "metadata": {},
   "outputs": [],
   "source": [
    "def extract_json_from_html(html_content):\n",
    "    soup = BeautifulSoup(html_content, 'html.parser')\n",
    "    script_tags = soup.find_all('script')\n",
    "\n",
    "    json_data_list = []\n",
    "\n",
    "    for script in script_tags:\n",
    "        script_content = script.string\n",
    "        if script_content:\n",
    "            # Use a regular expression to find JSON-like content\n",
    "            json_pattern = re.compile(r'({.*})', re.DOTALL)\n",
    "            matches = json_pattern.findall(script_content)\n",
    "            for match in matches:\n",
    "                try:\n",
    "                    json_data = json.loads(match)\n",
    "                    json_data_list.append(json_data)\n",
    "                except json.JSONDecodeError:\n",
    "                    pass  # Ignore invalid JSON\n",
    "\n",
    "    return json_data_list\n",
    "\n",
    "json_data_list = extract_json_from_html(html_content)\n"
   ]
  },
  {
   "cell_type": "code",
   "execution_count": 55,
   "id": "32547382",
   "metadata": {},
   "outputs": [],
   "source": [
    "file_path = r'C:\\Users\\SudheerRChinthala\\circana\\Srikanth\\Data\\CarToyJSONData.json'\n",
    "with open(file_path, 'w') as json_file:\n",
    "    for json_data in json_data_list:\n",
    "        json.dump(json_data, json_file, indent=4)"
   ]
  },
  {
   "cell_type": "code",
   "execution_count": 58,
   "id": "ff3eb616",
   "metadata": {},
   "outputs": [
    {
     "data": {
      "text/plain": [
       "[{'baseUrl': 'https://cusa-prod.usa.canon.com/static/version1727146707/frontend/Canon/cusa/en_US'},\n",
       " {},\n",
       " {'@context': 'http://schema.org/',\n",
       "  '@type': 'Product',\n",
       "  'name': 'EOS R100 RF-S18-45mm F4.5-6.3 IS STM Lens Kit',\n",
       "  'description': 'Experience the fun of RF mount content creation with the smallest and lightest EOS R series camera1, the Canon EOS R100. Excellent still-image capabilities start with its 24.1 Megapixel APS-C size CMOS Image sensor and DIGIC 8 processor, along with Dual Pixel CMOS AF with the ability to detect human faces and focus on their eyes. The EOS R100 also can record Full HD video at up to 60 frames per second, and detailed, high-res 4K from the central area of the sensor at 24 frames per second. The versatility and small size of the RF-S18-45mm F4.5-6.3 IS STM lens gives you the flexibility you desire without taking up your whole camera bag.',\n",
       "  'sku': '6052C012',\n",
       "  'url': 'https://www.usa.canon.com/shop/p/eos-r100-rf-s18-45mm-f4-5-6-3-is-stm-lens-kit',\n",
       "  'image': 'https://s7d1.scene7.com/is/image/canon/6052C012_eos-r100-rf-s18-45mm-f4-5-6-3-is-stm-lens-kit_primary?fmt=webp-alpha',\n",
       "  'brand': {'@type': 'Brand', 'name': 'Canon'},\n",
       "  'offers': {'@type': 'Offer',\n",
       "   'priceCurrency': 'USD',\n",
       "   'price': 499.99,\n",
       "   'url': 'https://www.usa.canon.com/shop/p/eos-r100-rf-s18-45mm-f4-5-6-3-is-stm-lens-kit',\n",
       "   'availability': 'http://schema.org/InStock'}},\n",
       " {'rua.upush': 'false',\n",
       "  'rua.cpush': 'true',\n",
       "  'rua.upre': 'false',\n",
       "  'rua.cpre': 'true',\n",
       "  'rua.uprl': 'false',\n",
       "  'rua.cprl': 'false',\n",
       "  'rua.cprf': 'false',\n",
       "  'rua.trans': 'SJ-c21f5be8-c57b-4b8f-a8c8-f716ec81826b',\n",
       "  'rua.cook': 'false',\n",
       "  'rua.ims': 'false',\n",
       "  'rua.ufprl': 'false',\n",
       "  'rua.cfprl': 'true',\n",
       "  'rua.isuxp': 'false',\n",
       "  'rua.texp': 'norulematch'},\n",
       " {},\n",
       " {'shoppingCartUrl': 'https://www.usa.canon.com/shop/checkout/cart/',\n",
       "  'checkoutUrl': 'https://www.usa.canon.com/shop/customer/account/login/',\n",
       "  'updateItemQtyUrl': 'https://www.usa.canon.com/shop/checkout/sidebar/updateItemQty/',\n",
       "  'removeItemUrl': 'https://www.usa.canon.com/shop/checkout/sidebar/removeItem/',\n",
       "  'imageTemplate': 'Magento_Catalog/product/image_with_borders',\n",
       "  'baseUrl': 'https://www.usa.canon.com/shop/',\n",
       "  'minicartMaxItemsVisible': 5,\n",
       "  'websiteId': '4',\n",
       "  'maxItemsToDisplay': 10,\n",
       "  'storeId': '4',\n",
       "  'storeGroupId': '4',\n",
       "  'customerLoginUrl': 'https://www.usa.canon.com/shop/customer/account/login/referer/aHR0cHM6Ly93d3cudXNhLmNhbm9uLmNvbS9zaG9wL3AvZW9zLXIxMDAtcmYtczE4LTQ1bW0tZjQtNS02LTMtaXMtc3RtLWxlbnMta2l0/',\n",
       "  'isRedirectRequired': False,\n",
       "  'autocomplete': 'off',\n",
       "  'captcha': {'user_login': {'isCaseSensitive': False,\n",
       "    'imageHeight': 50,\n",
       "    'imageSrc': '',\n",
       "    'refreshUrl': 'https://www.usa.canon.com/shop/captcha/refresh/',\n",
       "    'isRequired': False,\n",
       "    'timestamp': 1727518316},\n",
       "   'checkout_address': {'isCaseSensitive': False,\n",
       "    'imageHeight': 50,\n",
       "    'imageSrc': '',\n",
       "    'refreshUrl': 'https://www.usa.canon.com/shop/captcha/refresh/',\n",
       "    'isRequired': False,\n",
       "    'timestamp': 1727518316}}}]"
      ]
     },
     "execution_count": 58,
     "metadata": {},
     "output_type": "execute_result"
    }
   ],
   "source": [
    "json_data_list"
   ]
  },
  {
   "cell_type": "code",
   "execution_count": null,
   "id": "b71cd235",
   "metadata": {},
   "outputs": [],
   "source": []
  }
 ],
 "metadata": {
  "kernelspec": {
   "display_name": "Python 3 (ipykernel)",
   "language": "python",
   "name": "python3"
  },
  "language_info": {
   "codemirror_mode": {
    "name": "ipython",
    "version": 3
   },
   "file_extension": ".py",
   "mimetype": "text/x-python",
   "name": "python",
   "nbconvert_exporter": "python",
   "pygments_lexer": "ipython3",
   "version": "3.11.5"
  }
 },
 "nbformat": 4,
 "nbformat_minor": 5
}
