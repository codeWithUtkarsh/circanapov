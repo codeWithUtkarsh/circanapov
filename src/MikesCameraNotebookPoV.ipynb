{
 "cells": [
  {
   "cell_type": "code",
   "execution_count": 141,
   "id": "c9c8f1be-f679-4642-b313-3491763adffc",
   "metadata": {},
   "outputs": [],
   "source": [
    "from scrapfly import ScrapflyClient, ScrapeConfig, ScrapflyError\n",
    " \n",
    "scrapfly = ScrapflyClient(key=\"scp-live-01fc8534987042f4a2fe553c5cf6a2df\", max_concurrency=2)\n",
    "url = 'https://mikescamera.com/shop?query=91354'\n",
    "listing_result = scrapfly.scrape(ScrapeConfig(url=url, render_js=True, country=\"US\", asp=True, retry=False, rendering_wait=10000))\n",
    "listing_html = listing_result.scrape_result['content']"
   ]
  },
  {
   "cell_type": "code",
   "execution_count": 142,
   "id": "a1b384a8-306e-40a2-8462-59e931055dbc",
   "metadata": {},
   "outputs": [],
   "source": [
    "from bs4 import BeautifulSoup\n",
    "import re\n",
    "import json\n",
    "def extract_json_from_html(html_content):\n",
    "    soup = BeautifulSoup(html_content, 'html.parser')\n",
    "    script_tags = soup.find_all('script')\n",
    "\n",
    "    json_data_list = []\n",
    "\n",
    "    for script in script_tags:\n",
    "        script_content = script.string\n",
    "        if script_content:\n",
    "            # Use a regular expression to find JSON-like content\n",
    "            json_pattern = re.compile(r'({.*})', re.DOTALL)\n",
    "            matches = json_pattern.findall(script_content)\n",
    "            for match in matches:\n",
    "                try:\n",
    "                    json_data = json.loads(match)\n",
    "                    json_data_list.append(json_data)\n",
    "                except json.JSONDecodeError:\n",
    "                    pass  # Ignore invalid JSON\n",
    "\n",
    "    return json_data_list\n",
    "\n",
    "json_data_list = extract_json_from_html(listing_html)"
   ]
  },
  {
   "cell_type": "code",
   "execution_count": 143,
   "id": "a434d629",
   "metadata": {},
   "outputs": [],
   "source": [
    "sellername = None\n",
    "site_url = None\n",
    "\n",
    "for index in range(2):  # Assuming only the first two indices are relevant\n",
    "    # Ensure the index is valid and that the 'name' is not None\n",
    "    if index < len(json_data_list) and json_data_list[index].get('name') is not None:\n",
    "        # Check if the current product name matches the desired one\n",
    "            data = json_data_list[index]\n",
    "            \n",
    "            # Attempt to populate sellername and site_url if they exist\n",
    "            if index + 1 < len(json_data_list):\n",
    "                sellername = json_data_list[index + 1].get('@graph', [{}])[0].get('name')\n",
    "                site_url = json_data_list[index + 1].get('@graph', [{}])[0].get('url')\n",
    "\n",
    "            break\n"
   ]
  },
  {
   "cell_type": "code",
   "execution_count": 144,
   "id": "9f972019",
   "metadata": {},
   "outputs": [
    {
     "name": "stdout",
     "output_type": "stream",
     "text": [
      "{\n",
      "  \"ProductName\": \"EOS R50 Mirrorless Camera - Content Creator Kit\",\n",
      "  \"description\": \"<strong>Capture the Moment Just as You Imagine It</strong><br>The EOS R50 camera makes photography fun, simple, and convenient with intuitive photo functions that capture beautiful images automatically, just as you imagine them. A host of video functions such as 6K oversampled 4K 30p capture and Dual Pixel CMOS AF II makes the EOS R50 a great camera for movie recording and vlogging as well. The 24.2 Megapixel APS-C size CMOS Image sensor and DIGIC X image processor ensure high image quality in a compact and lightweight form factor.\\u00a0<br><br><strong>FEATURES<br>24.2 Megapixel (APS-C) CMOS Sensor</strong><br>Equipped with a 24.2-million-pixel CMOS (APS-C) image sensor and DIGIC X Image Processor, the EOS R50 camera can capture images and videos with reduced noise, delivering clear, detailed results even in low light. Images look beautiful even when enlarged, with natural bokeh that smartphones can\\u2019t offer.\\u00a0<br><br><strong>Dual Pixel CMOS AF II</strong><br>Easily keep track of your subject with Dual Pixel CMOS AF II \\u2013 a highly responsive system that covers up to approximately 100% x 100% of the picture area, breaking the image into up to 651 automatically-selected AF zones during Whole Area AF. This enables impressive autofocus coverage on the EOS R50 camera that helps you get the photo you want right as the moment happens.<br><br><strong>Automatic Subject Detection and Tracking</strong><br>When the subject is found on screen, the EOS R50 camera can automatically select and track the subject, enabling photography that keeps them in focus with ease. Developed using Deep Learning Technology, subjects like people, animals including dogs, cats and birds, and vehicles such as cars and motorcycles \\u2014 especially in a motorsports environment \\u2013 are detectable1,2.\\u00a0<br><br><strong>Continuous Shooting</strong><br>Capture those can\\u2019t-miss moments with up to 12 frames per second continuous shooting using the Electronic First Curtain shutter mode, and up to 15 frames per second with Electronic Shutter mode. Electronic First Curtain enables shooting with less distortion, even for subjects with significant movement. The Electronic Shutter generates no shutter noise, making it useful when photographing sleeping children, concerts, dance recitals, and other situations where silence is necessary.<br><br><strong>Advanced A+ Assist</strong><br>Experience the joy of creative photography with an expanded array of auto-compatible scenes. Advanced A+ Assist on the EOS R50 camera enables great imagery even in difficult settings such as night views and backlit scenarios. Overexposure is automatically reduced so you can capture dynamic scenes or bright portraits, and multiple continuous shots are taken to create beautiful night images or macro photography with a deeper depth of field.<br><br><strong>Vlogging Made Simple and Convenient</strong><br>With video recording features such as 6K oversampled uncropped 4K movie at up to 30 fps, Full-HD High-frame rate movie recording at up to 120 fps, Dual Pixel CMOS AF tracking, and Movie for Close-up Demo Mode, the EOS R50 camera makes vlogging and video content creation simple and convenient.<br><br><strong>Continuous Movie Recording That Exceeds 30 Minutes</strong><br>The EOS R50 camera can continuously record video for up to 1 hour, allowing you to set up your video and keep your vlog, podcast, or other video project rolling without worrying about it stopping3.<br><br><strong>Movie for Close-Up Demos Mode</strong><br>Ensure the correct subject is in focus with Movie for Close-up Demos Mode on the EOS R50 camera. This mode quickly switches focus from the on-camera subject to an object that is presented towards the camera\\u2019s lens, ideal for movies where showing a product to the viewers is necessary such as in makeup demos, or cooking videos.<br><br><strong>Vertical Movie Mode and Aspect Markers</strong><br>Movie rotation information can be set during or after movie recording, allowing videos to be played in vertical composition when viewing on a smartphone. The Aspect Markers Function displays visual markers for different aspect ratios that may be desired for posting the same file to various social media sites. This display provides consideration for proper composition for the different deliverable files that can be created when editing.<br><br><strong>UVC Livestreaming</strong><br>UVC/UAC compatibility allows the EOS R50 camera to be used as a web camera to stream live video in Full HD 30 fps fixed, without additional computer software, to applications such as Zoom\\u2122, Microsoft Teams\\u2122, Skype\\u2122, and similar on-line web conferencing software7.<br><br><strong>Vari-Angle Touchscreen LCD</strong><br>Featuring a 3.0-inch, 1.62 million dot Clear View LCD II Vari-angle Touchscreen LCD, the EOS R50 makes it easy to compose and shoot from virtually any angle. With the EOS R8 Touch and Drag AF functionality, you can intuitively and swiftly move the autofocus point on the touch-panel LCD.<br><br><strong>Precise Electronic Viewfinder</strong><br>The EOS R50 camera is equipped with a high-precision 0.39-inch OLED (Organic Light-Emitting Diode) EVF with approx. 2.36 million dots and a 22mm eyepoint which displays a bright image and extensive shooting information. The EVF supports up to a 120 fps refresh rate and has been designed to provide a bright, sharp and colorful 100% view of the subject at hand. There\\u2019s also an Optical Viewfinder (OVF) Simulation setting, which provides a higher dynamic range viewfinder image for outstanding viewing in harsh, contrasty lighting situations.<br><br><strong>Wired and Wireless Communications</strong><br>The EOS R50 camera supports both wired and wireless connections to your smartphone via its USB Type-C4 port, built-in Wi-Fi\\u00ae, and Bluetooth\\u00ae technology, making it easy to upload and share movies and photos to your favorite social networks.\\u00a0<br><br><strong>Built-in Bluetooth\\u00ae Capability</strong><br>Bluetooth\\u00ae pairing helps you connect the camera to compatible smart devices using the free Canon Camera Connect app. This low-energy wireless connection helps preserve battery life, while providing remote control of the camera. It also sends continuously updated GPS location data from your phone, letting you geotag what you've captured so you know precisely where you captured the photo.<br><br><strong>Built-in Wi-Fi Capability</strong><br>Enable wireless functions, such as remote live view, file viewing and transfer, by connecting to Wi-Fi quickly and seamlessly. Using the Canon Camera Connect app, you can also transfer files to your mobile device to browse and share on social media.<br><br><strong>USB-C Connection</strong><br>The EOS R50 camera can be connected to a computer or smartphone via USB-C4. All Canon Camera Connect app features that can be used with Wi-Fi are now available when the camera and smartphone are connected via USB, using a compatible cable for your device.\",\n",
      "  \"sku\": \"91354\",\n",
      "  \"brand\": \"Canon\",\n",
      "  \"color\": null,\n",
      "  \"image\": \"https://cipher.dakiscdn.com/i/https://1410dd2bdd37e05ebf19-a2305060cc55ab8db83b1ef4b8835a6b.ssl.cf5.rackcdn.com/Dd0yCskMxTJhg6AcxOnafA?w=400&h=400&p=1&a=1&q=display\",\n",
      "  \"priceCurrency\": \"USD\",\n",
      "  \"price\": 899,\n",
      "  \"availability\": \"http://schema.org/InStock\",\n",
      "  \"url\": \"https://mikescamera.com/shop/canon-eos-r50-mirrorless-camera-content-creator-kit/d4845f70-d6f6-013b-430a-00163e90e196?variation=3483715\",\n",
      "  \"mpn\": \"5811C059\",\n",
      "  \"sellername\": \"Mike's Camera\",\n",
      "  \"siteurl\": \"https://mikescamera.com/\"\n",
      "}\n"
     ]
    }
   ],
   "source": [
    "result = {\n",
    "    'ProductName': data.pop('name'),\n",
    "    'description': data.pop('description'),\n",
    "    'sku': data.pop('sku'),\n",
    "    'brand': data['brand']['name'],  # Rename to 'Brand name'\n",
    "    'color': data.get('color'),  # Optional field, adjust accordingly\n",
    "    'image': data.pop('image')[0],  # Assuming the first image is needed\n",
    "    'priceCurrency': data['offers']['priceCurrency'],\n",
    "    'price': data['offers']['price'],\n",
    "    'availability': data['offers']['availability'],\n",
    "    'url': data['offers'].get('url'),\n",
    "    'mpn': data.pop('mpn'),\n",
    "    'sellername' : sellername,\n",
    "    'siteurl' : site_url\n",
    "}\n",
    "\n",
    "# Print the resulting dictionary\n",
    "print(json.dumps(result, indent=2))"
   ]
  },
  {
   "cell_type": "code",
   "execution_count": null,
   "id": "c12d26bb",
   "metadata": {},
   "outputs": [],
   "source": []
  },
  {
   "cell_type": "code",
   "execution_count": null,
   "id": "7f1e36c7",
   "metadata": {},
   "outputs": [],
   "source": []
  }
 ],
 "metadata": {
  "kernelspec": {
   "display_name": "Python 3 (ipykernel)",
   "language": "python",
   "name": "python3"
  },
  "language_info": {
   "codemirror_mode": {
    "name": "ipython",
    "version": 3
   },
   "file_extension": ".py",
   "mimetype": "text/x-python",
   "name": "python",
   "nbconvert_exporter": "python",
   "pygments_lexer": "ipython3",
   "version": "3.11.5"
  }
 },
 "nbformat": 4,
 "nbformat_minor": 5
}
