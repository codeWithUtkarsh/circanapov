{
 "cells": [
  {
   "cell_type": "code",
   "execution_count": 47,
   "id": "c9c8f1be-f679-4642-b313-3491763adffc",
   "metadata": {},
   "outputs": [],
   "source": [
    "from scrapfly import ScrapflyClient, ScrapeConfig, ScrapflyError\n",
    "scrapfly = ScrapflyClient(key=\"scp-live-01fc8534987042f4a2fe553c5cf6a2df\", max_concurrency=2)\n",
    "url = 'https://www.bestbuy.com/site/6587182.p?skuId=6587182'\n",
    "listing_result = scrapfly.scrape(ScrapeConfig(url=url, render_js=True, country=\"US\", asp=True, retry=False, rendering_wait=10000))\n",
    "listing_html = listing_result.scrape_result['content']"
   ]
  },
  {
   "cell_type": "code",
   "execution_count": 58,
   "id": "5ea60ab0-d26d-469f-8aba-42981b904e42",
   "metadata": {},
   "outputs": [],
   "source": [
    "import re\n",
    "def extract_json_from_html(html_content):\n",
    "    soup = BeautifulSoup(html_content, 'html.parser')\n",
    "    script_tags = soup.find_all('script')\n",
    "\n",
    "    json_data_list = []\n",
    "\n",
    "    for script in script_tags:\n",
    "        script_content = script.string\n",
    "        if script_content:\n",
    "            # Use a regular expression to find JSON-like content\n",
    "            json_pattern = re.compile(r'({.*})', re.DOTALL)\n",
    "            matches = json_pattern.findall(script_content)\n",
    "            for match in matches:\n",
    "                try:\n",
    "                    json_data = json.loads(match)\n",
    "                    json_data_list.append(json_data)\n",
    "                except json.JSONDecodeError:\n",
    "                    pass  # Ignore invalid JSON\n",
    "\n",
    "    return json_data_list"
   ]
  },
  {
   "cell_type": "code",
   "execution_count": 64,
   "id": "5c28d1a2-a76f-4060-8db2-cbcb4fde44e0",
   "metadata": {},
   "outputs": [],
   "source": [
    "# Function to clean the JSON and remove specified keys\n",
    "def clean_json(data):\n",
    "    if isinstance(data, dict):\n",
    "        cleaned_data = {}\n",
    "        for key, value in data.items():\n",
    "            # Remove '@' from keys and skip 'context' and 'reviews' keys\n",
    "            new_key = key.replace('@', '')\n",
    "            if new_key == 'context' or new_key == 'reviews':\n",
    "                continue\n",
    "            # Recursively clean nested dictionaries or lists\n",
    "            cleaned_data[new_key] = clean_json(value)\n",
    "        return cleaned_data\n",
    "    elif isinstance(data, list):\n",
    "        return [clean_json(item) for item in data]\n",
    "    else:\n",
    "        return data"
   ]
  },
  {
   "cell_type": "code",
   "execution_count": 65,
   "id": "1dc48bd7-3dd3-4529-85f0-c4f2b3c81f49",
   "metadata": {},
   "outputs": [],
   "source": [
    "import jsonpath_ng as jp\n",
    "import os\n",
    "from bs4 import BeautifulSoup\n",
    "import json\n",
    "from pprint import pprint\n",
    "\n",
    "\n",
    "def extract_json_data(soup, script_id):\n",
    "        try:\n",
    "            script_tag = soup.find('script', {'id': script_id, 'type': 'application/json'})\n",
    "            if script_tag and script_tag.string:\n",
    "                json_content = script_tag.string\n",
    "                data = json.loads(json_content)\n",
    "                return data\n",
    "            else:\n",
    "                print(f\"No script tag found with id '{script_id}' or script content is empty.\")\n",
    "                return None\n",
    "        except (json.JSONDecodeError, TypeError) as e:\n",
    "            print(f\"Error parsing JSON data: {e}\")\n",
    "            return None\n",
    "        \n",
    "\n",
    "input_dir = r\"C:\\Users\\SudheerRChinthala\\circana\\Srikanth\\Data\"\n",
    "input_file = os.path.join(output_dir, \"BestBuyListing.html\")\n",
    "with open(input_file, 'w', encoding='utf-8') as f:\n",
    "    f.write(listing_html)\n",
    "# with open(output_file, 'r', encoding='utf-8') as f:\n",
    "#     f.read() \n",
    "    \n",
    "json_data_list = extract_json_from_html(listing_html)\n",
    "# json_data = extract_json_data(soup, '__NEXT_DATA__')\n",
    "\n",
    "# if isinstance(json_data, dict):\n",
    "#     json_string = json.dumps(json_data)\n",
    "# else:\n",
    "#     json_string = json_data\n",
    "\n",
    "# data = json.loads(json_string)\n"
   ]
  },
  {
   "cell_type": "code",
   "execution_count": 73,
   "id": "6bbaef50-3e42-4f9e-b622-105555a09a11",
   "metadata": {},
   "outputs": [],
   "source": [
    "data = clean_json(json_data_list[10])\n",
    "# if isinstance(json_data, dict):\n",
    "#     json_string = json.dumps(json_data)\n",
    "# else:\n",
    "#     json_string = json_data\n",
    "json_string = json.dumps(data)"
   ]
  },
  {
   "cell_type": "code",
   "execution_count": 74,
   "id": "f31bd57e-f304-4678-a104-db9ce468a91e",
   "metadata": {},
   "outputs": [
    {
     "data": {
      "text/plain": [
       "'{\"type\": \"Product\", \"name\": \"Acer - Chromebook 311 - 11.6\\\\\" HD Laptop - Intel Celeron N4500 - 4GB Memory - 64GB eMMC - Star Black\", \"url\": \"https://www.bestbuy.com/site/acer-chromebook-311-11-6-hd-laptop-intel-celeron-n4500-4gb-memory-64gb-emmc-star-black/6587182.p?skuId=6587182\", \"description\": \"Shop Acer Chromebook 311 11.6\\\\\" HD Laptop Intel Celeron N4500 4GB Memory 64GB eMMC Star Black at Best Buy. Find low everyday prices and buy online for delivery or in-store pick-up. Price Match Guarantee.\", \"sku\": \"6587182\", \"gtin13\": \"0195133259316\", \"model\": \"CBOA311-1H-C90F\", \"width\": {\"type\": \"http://schema.org/QuantitativeValue\", \"unitCode\": \"INH\", \"value\": \"7.83\"}, \"weight\": {\"type\": \"http://schema.org/QuantitativeValue\", \"unitCode\": \"LBR\", \"value\": \"2.65\"}, \"color\": \"Star Black\", \"brand\": {\"type\": \"Brand\", \"name\": \"Acer\"}, \"aggregateRating\": {\"type\": \"AggregateRating\", \"ratingValue\": \"4.5\", \"reviewCount\": \"20\"}, \"offers\": {\"type\": \"Offer\", \"priceCurrency\": \"USD\", \"price\": \"119\", \"availability\": \"http://schema.org/InStock\", \"itemCondition\": \"http://schema.org/NewCondition\", \"description\": \"New\", \"sku\": \"6587182\", \"seller\": {\"type\": \"Organization\", \"name\": \"Best Buy\"}}}'"
      ]
     },
     "execution_count": 74,
     "metadata": {},
     "output_type": "execute_result"
    }
   ],
   "source": [
    "json_string"
   ]
  },
  {
   "cell_type": "code",
   "execution_count": 227,
   "id": "804632c6-7008-4fd8-8e88-37425d1c5b72",
   "metadata": {},
   "outputs": [],
   "source": [
    "def flatten_json(nested_json, parent_key=''):\n",
    "    items = {}\n",
    "    for key, value in nested_json.items():\n",
    "        if isinstance(value, dict):\n",
    "            # Recursively flatten dictionaries\n",
    "            items.update(flatten_json(value, parent_key))\n",
    "        elif isinstance(value, list):\n",
    "            # Handle lists, specifically flattening those with 'name' and 'value' structure\n",
    "            for sub_item in value:\n",
    "                if isinstance(sub_item, dict) and 'name' in sub_item and 'value' in sub_item:\n",
    "                    # Use 'name' as key and 'value' as the corresponding value\n",
    "                    items[sub_item['name']] = sub_item['value']\n",
    "        else:\n",
    "            # For all other types, just add them to the result\n",
    "            items[key] = value\n",
    "    return items"
   ]
  },
  {
   "cell_type": "code",
   "execution_count": 228,
   "id": "2ee49d0f-fed9-4ad7-a6ac-28c80d5be101",
   "metadata": {},
   "outputs": [],
   "source": [
    "jp_first = lambda query, data: jp.parse(query).find(data)[0].value\n",
    "jp_all = lambda query, data: [match.value for match in jp.parse(query).find(data)]"
   ]
  },
  {
   "cell_type": "code",
   "execution_count": 229,
   "id": "3f2f4c5a-08ed-4511-bc72-271e03fd8c50",
   "metadata": {},
   "outputs": [],
   "source": [
    "prop_data = jp_first(\"$..data\", data)"
   ]
  },
  {
   "cell_type": "code",
   "execution_count": 230,
   "id": "7047949e-8d4b-4d99-a402-6d591cd89719",
   "metadata": {},
   "outputs": [],
   "source": [
    "result = {\n",
    "    \"ProductName\": prop_data[\"product\"][\"name\"],\n",
    "    \"UPC\": prop_data[\"product\"][\"upc\"],\n",
    "    \"description\": prop_data[\"product\"][\"shortDescription\"],\n",
    "    \"shippingText\": prop_data[\"product\"][\"fulfillmentLabel\"][0][\"shippingText\"] if prop_data[\"product\"][\"fulfillmentLabel\"] else None,\n",
    "    \"returnPolicyText\": prop_data[\"product\"][\"returnPolicy\"][\"returnPolicyText\"],\n",
    "    \"priceString\": prop_data[\"product\"][\"priceInfo\"][\"currentPrice\"][\"priceString\"],\n",
    "    \"productHighlights\":prop_data[\"idml\"][\"productHighlights\"],\n",
    "    \"specifications\":prop_data[\"idml\"][\"specifications\"],\n",
    "    \"cannonicalURL\":prop_data[\"product\"][\"canonicalUrl\"],\n",
    "    \"images\":prop_data[\"product\"][\"imageInfo\"][\"allImages\"]    \n",
    "}"
   ]
  },
  {
   "cell_type": "code",
   "execution_count": 232,
   "id": "b321260d-dcb2-4950-bc5f-718988bf8602",
   "metadata": {},
   "outputs": [],
   "source": [
    "final_json = json.dumps(result, indent = 4)"
   ]
  },
  {
   "cell_type": "code",
   "execution_count": 233,
   "id": "ded118e6-e009-4bb2-b433-8d80639c9c55",
   "metadata": {},
   "outputs": [],
   "source": [
    "try:\n",
    "    if isinstance(final_json, str):\n",
    "        final_json = json.loads(final_json) \n",
    "    # Now flatten the parsed JSON\n",
    "    flattened_data = flatten_json(final_json)\n",
    "    flat_json_final = json.dumps(flattened_data)\n",
    "except json.JSONDecodeError as e:\n",
    "    pprint(\"Invalid JSON:\", e)\n",
    "except Exception as e:\n",
    "    print(\"Error:\", e)"
   ]
  },
  {
   "cell_type": "code",
   "execution_count": 234,
   "id": "c9185a5b-4acb-4ece-8a80-f19f13f0fa6b",
   "metadata": {},
   "outputs": [
    {
     "name": "stdout",
     "output_type": "stream",
     "text": [
      "{\"ProductName\": \"Acer Predator Helios Neo 14.5 inch QHD+ 120Hz Gaming Laptop Intel Core Ultra 7-155H AI PC NVIDIA GeForce RTX 4070 16GB DDR5 RAM 1TB SSD Obsidian Black (2024)\", \"UPC\": \"195133232043\", \"description\": \"<p>Introducing the epitome of portable gaming excellence \\u2013 the AI powered Predator Helios Neo 14, meticulously crafted for individuals who demand uncompromising performance for gaming and creativity without sacrificing the luxury of portability. Video game realms appearas realistic as ever on this AI-ready gaming laptop with 14.5\\\" WQXGA IPS display powered by an NVIDIA\\u00ae GeForce RTX\\u2122 4070 laptop GPU and the Intel\\u00ae Core\\u2122 Ultra 7 processor 155H. The Predator laptops also feature Microsoft\\u2019s Copilot in Windows 11 and a dedicatedCopilot key for quick access to AI-powered task assistance.</p>\", \"shippingText\": \"Free shipping\", \"returnPolicyText\": \"Free 30-day returns\", \"priceString\": \"$1,599.00\", \"Screen size\": \"14.5 in\", \"Processor\": \"Intel Core Ultra 7\", \"Ram memory\": \"16 GB\", \"HD capacity\": \"1 TB\", \"Weight\": \"4.19 lbs\", \"Touchscreen\": \"N\", \"Resolution\": \"TBD\", \"Features\": \"Backlit Keyboard\", \"OS\": \"Windows 11 Home\", \"Brand\": \"Acer\", \"Screen Size\": \"14.5 in\", \"Processor Type\": \"Intel Core Ultra 7\", \"RAM Memory\": \"16 GB\", \"Hard Drive Capacity\": \"1 TB\", \"Operating System\": \"Windows 11 Home\", \"Processor Core Type\": \"16-core\", \"Maximum RAM Supported\": \"16 GB\", \"Processor Speed\": \"4.8 GHz\", \"Condition\": \"New\", \"Manufacturer Part Number\": \"NH.QRNAA.001\", \"Model\": \"PHN14-51-79UB\", \"Product Line\": \"Acer Predator Helios Neo 14\", \"Manufacturer\": \"Acer\", \"Processor Brand\": \"Intel\", \"Wireless Technology\": \"Bluetooth\", \"Edition\": \"16GB RAM|1TB SSD\", \"Accessories Included\": \"230W AC Adapter, Power Cord\", \"Memory Card Type\": \"Micro SD\", \"Optical Disk Drive Type\": \"No optical drive\", \"Solid State Drive Capacity\": \"1 TB\", \"RAM Memory Type\": \"DDR4\", \"Inputs & Outputs\": \"HDMI\", \"Video Memory\": \"8 GB\", \"Edition Year\": \"2024\", \"Assembled Product Dimensions (L x W x H)\": \"10.05 x 12.76 x 0.77 Inches\", \"cannonicalURL\": \"/ip/Acer-Predator-Helios-Neo-14-5-inch-QHD-120Hz-Gaming-Laptop-Intel-Core-Ultra-7-155H-NVIDIA-GeForce-RTX-4070-16GB-DDR5-RAM-1TB-SSD-Obsidian-Black-2024/5164753187\"}\n"
     ]
    }
   ],
   "source": [
    "print(flat_json_final)"
   ]
  },
  {
   "cell_type": "code",
   "execution_count": null,
   "id": "b7c01680-7ded-4248-a105-7bb1a2490ecd",
   "metadata": {},
   "outputs": [],
   "source": []
  },
  {
   "cell_type": "code",
   "execution_count": null,
   "id": "73b76fcf-80dd-42c2-8af4-1bcdce1154e4",
   "metadata": {},
   "outputs": [],
   "source": []
  }
 ],
 "metadata": {
  "kernelspec": {
   "display_name": "Python 3 (ipykernel)",
   "language": "python",
   "name": "python3"
  },
  "language_info": {
   "codemirror_mode": {
    "name": "ipython",
    "version": 3
   },
   "file_extension": ".py",
   "mimetype": "text/x-python",
   "name": "python",
   "nbconvert_exporter": "python",
   "pygments_lexer": "ipython3",
   "version": "3.11.5"
  }
 },
 "nbformat": 4,
 "nbformat_minor": 5
}
