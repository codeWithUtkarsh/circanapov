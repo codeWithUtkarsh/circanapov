{
 "cells": [
  {
   "cell_type": "code",
   "execution_count": 2,
   "id": "c9c8f1be-f679-4642-b313-3491763adffc",
   "metadata": {},
   "outputs": [],
   "source": [
    "from scrapfly import ScrapflyClient, ScrapeConfig, ScrapflyError\n",
    " \n",
    "scrapfly = ScrapflyClient(key=\"scp-live-01fc8534987042f4a2fe553c5cf6a2df\", max_concurrency=2)\n",
    "url = 'https://www.newegg.com/p/N82E16834840524'\n",
    "listing_result = scrapfly.scrape(ScrapeConfig(url=url, render_js=True, country=\"US\", asp=True, retry=False, rendering_wait=10000))\n",
    "listing_html = listing_result.scrape_result['content']"
   ]
  },
  {
   "cell_type": "code",
   "execution_count": 3,
   "id": "a1b384a8-306e-40a2-8462-59e931055dbc",
   "metadata": {},
   "outputs": [],
   "source": [
    "from bs4 import BeautifulSoup\n",
    "import re\n",
    "import json\n",
    "def extract_json_from_html(html_content):\n",
    "    soup = BeautifulSoup(html_content, 'html.parser')\n",
    "    script_tags = soup.find_all('script')\n",
    "\n",
    "    json_data_list = []\n",
    "\n",
    "    for script in script_tags:\n",
    "        script_content = script.string\n",
    "        if script_content:\n",
    "            # Use a regular expression to find JSON-like content\n",
    "            json_pattern = re.compile(r'({.*})', re.DOTALL)\n",
    "            matches = json_pattern.findall(script_content)\n",
    "            for match in matches:\n",
    "                try:\n",
    "                    json_data = json.loads(match)\n",
    "                    json_data_list.append(json_data)\n",
    "                except json.JSONDecodeError:\n",
    "                    pass  # Ignore invalid JSON\n",
    "\n",
    "    return json_data_list\n",
    "\n",
    "json_data_list = extract_json_from_html(listing_html)"
   ]
  },
  {
   "cell_type": "code",
   "execution_count": 10,
   "id": "cae397df",
   "metadata": {},
   "outputs": [],
   "source": [
    "data = json_data_list[2]"
   ]
  },
  {
   "cell_type": "code",
   "execution_count": 13,
   "id": "851cf49e",
   "metadata": {},
   "outputs": [
    {
     "data": {
      "text/plain": [
       "{'@context': 'http://schema.org/',\n",
       " '@type': 'Product',\n",
       " 'offers': {'@type': 'Offer',\n",
       "  'availability': 'http://schema.org/InStock',\n",
       "  'price': '659.99',\n",
       "  'priceCurrency': 'USD',\n",
       "  'url': 'https://www.newegg.com/lenovo-ideapad-5-2-in-1-16iru9-83du0005us-16-0-intel-core-5-120u-512-gb-pcie-ssd-8gb-memory/p/N82E16834840524'},\n",
       " 'description': 'Lenovo IdeaPad 5 2-in-1 16IRU9 Intel Core 5 120U 8GB Memory 512 GB PCIe SSD Intel Graphics 16.0\" Touchscreen 1920 x 1200 Convertible 2 in 1 Laptop Windows 11 Home 64-bit 83DU0005US',\n",
       " 'name': 'Lenovo IdeaPad 5 2-in-1 16IRU9 Intel Core 5 120U 8GB Memory 512 GB PCIe SSD Intel Graphics 16.0\" Touchscreen 1920 x 1200 Convertible 2 in 1 Laptop Windows 11 Home 64-bit 83DU0005US',\n",
       " 'sku': 'N82E16834840524',\n",
       " 'brand': 'Lenovo',\n",
       " 'mpn': '83DU0005US',\n",
       " 'gtin12': '197531779267',\n",
       " 'Model': '83DU0005US',\n",
       " 'image': 'https://c1.neweggimages.com/ProductImage/A0ZXD24041017RBOG9D.jpg',\n",
       " 'width': '11 in',\n",
       " 'height': '3 in',\n",
       " 'weight': '4.8 oz',\n",
       " 'itemCondition': 'NewCondition'}"
      ]
     },
     "execution_count": 13,
     "metadata": {},
     "output_type": "execute_result"
    }
   ],
   "source": [
    "data"
   ]
  },
  {
   "cell_type": "code",
   "execution_count": 15,
   "id": "67a5fb57-747d-41ea-8d73-cbc84ebd78f0",
   "metadata": {
    "scrolled": true
   },
   "outputs": [],
   "source": [
    "extracted_data = {\n",
    "    'name': data.get('name'),\n",
    "    'sku': data.get('sku'),\n",
    "    'gtin12': data.get('gtin12'),\n",
    "    'description': data.get('description'),\n",
    "    'brand': data.get('brand'),\n",
    "    'mpn': data.get('mpn'),\n",
    "    'Model': data.get('Model'),\n",
    "    'price': data['offers'].get('price'),\n",
    "    'priceCurrency': data['offers'].get('priceCurrency'),\n",
    "    'availability': data['offers'].get('availability'),\n",
    "    'image': data.get('image'),\n",
    "    'height': data.get('height'),\n",
    "    'width': data.get('width'),\n",
    "    'length': None,  # length not provided in the JSON\n",
    "    'itemcondition': data.get('itemCondition')\n",
    "}"
   ]
  },
  {
   "cell_type": "code",
   "execution_count": 16,
   "id": "73b76fcf-80dd-42c2-8af4-1bcdce1154e4",
   "metadata": {},
   "outputs": [
    {
     "name": "stdout",
     "output_type": "stream",
     "text": [
      "{\n",
      "    \"name\": \"Lenovo IdeaPad 5 2-in-1 16IRU9 Intel Core 5 120U 8GB Memory 512 GB PCIe SSD Intel Graphics 16.0\\\" Touchscreen 1920 x 1200 Convertible 2 in 1 Laptop Windows 11 Home 64-bit 83DU0005US\",\n",
      "    \"sku\": \"N82E16834840524\",\n",
      "    \"gtin12\": \"197531779267\",\n",
      "    \"description\": \"Lenovo IdeaPad 5 2-in-1 16IRU9 Intel Core 5 120U 8GB Memory 512 GB PCIe SSD Intel Graphics 16.0\\\" Touchscreen 1920 x 1200 Convertible 2 in 1 Laptop Windows 11 Home 64-bit 83DU0005US\",\n",
      "    \"brand\": \"Lenovo\",\n",
      "    \"mpn\": \"83DU0005US\",\n",
      "    \"Model\": \"83DU0005US\",\n",
      "    \"price\": \"659.99\",\n",
      "    \"priceCurrency\": \"USD\",\n",
      "    \"availability\": \"http://schema.org/InStock\",\n",
      "    \"image\": \"https://c1.neweggimages.com/ProductImage/A0ZXD24041017RBOG9D.jpg\",\n",
      "    \"height\": \"3 in\",\n",
      "    \"width\": \"11 in\",\n",
      "    \"length\": null,\n",
      "    \"itemcondition\": \"NewCondition\"\n",
      "}\n"
     ]
    }
   ],
   "source": [
    "print(json.dumps(extracted_data, indent=4))"
   ]
  },
  {
   "cell_type": "code",
   "execution_count": null,
   "id": "9f972019",
   "metadata": {},
   "outputs": [],
   "source": []
  },
  {
   "cell_type": "code",
   "execution_count": null,
   "id": "3fee1c9d",
   "metadata": {},
   "outputs": [],
   "source": []
  }
 ],
 "metadata": {
  "kernelspec": {
   "display_name": "Python 3 (ipykernel)",
   "language": "python",
   "name": "python3"
  },
  "language_info": {
   "codemirror_mode": {
    "name": "ipython",
    "version": 3
   },
   "file_extension": ".py",
   "mimetype": "text/x-python",
   "name": "python",
   "nbconvert_exporter": "python",
   "pygments_lexer": "ipython3",
   "version": "3.11.5"
  }
 },
 "nbformat": 4,
 "nbformat_minor": 5
}
