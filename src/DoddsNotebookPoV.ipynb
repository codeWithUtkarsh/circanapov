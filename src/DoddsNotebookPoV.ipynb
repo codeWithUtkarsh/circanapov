{
 "cells": [
  {
   "cell_type": "code",
   "execution_count": 1,
   "id": "c9c8f1be-f679-4642-b313-3491763adffc",
   "metadata": {},
   "outputs": [],
   "source": [
    "from scrapfly import ScrapflyClient, ScrapeConfig, ScrapflyError\n",
    "from jsonpath_ng import jsonpath, parse\n",
    " \n",
    "scrapfly = ScrapflyClient(key=\"scp-live-01fc8534987042f4a2fe553c5cf6a2df\", max_concurrency=2)\n",
    "url = 'https://doddcamera.com/dji267801'\n",
    "listing_result = scrapfly.scrape(ScrapeConfig(url=url, render_js=True, country=\"US\", asp=True, retry=False, rendering_wait=10000))\n",
    "listing_html = listing_result.scrape_result['content']"
   ]
  },
  {
   "cell_type": "code",
   "execution_count": 13,
   "id": "ba7c5d4d",
   "metadata": {},
   "outputs": [
    {
     "name": "stdout",
     "output_type": "stream",
     "text": [
      "Collecting jsonpath-ng\n",
      "  Obtaining dependency information for jsonpath-ng from https://files.pythonhosted.org/packages/16/0a/3b1ee3721b4bd684b0e29c724ab82ed3b2c0e42285beb8bf9e18de8c903f/jsonpath_ng-1.6.1-py3-none-any.whl.metadata\n",
      "  Downloading jsonpath_ng-1.6.1-py3-none-any.whl.metadata (18 kB)\n",
      "Requirement already satisfied: ply in c:\\users\\sudheerrchinthala\\anaconda3\\lib\\site-packages (from jsonpath-ng) (3.11)\n",
      "Downloading jsonpath_ng-1.6.1-py3-none-any.whl (29 kB)\n",
      "Installing collected packages: jsonpath-ng\n",
      "Successfully installed jsonpath-ng-1.6.1\n"
     ]
    }
   ],
   "source": [
    "!pip install jsonpath-ng"
   ]
  },
  {
   "cell_type": "code",
   "execution_count": 2,
   "id": "a1b384a8-306e-40a2-8462-59e931055dbc",
   "metadata": {},
   "outputs": [],
   "source": [
    "from bs4 import BeautifulSoup\n",
    "import re\n",
    "import json\n",
    "def extract_json_from_html(html_content):\n",
    "    soup = BeautifulSoup(html_content, 'html.parser')\n",
    "    script_tags = soup.find_all('script')\n",
    "\n",
    "    json_data_list = []\n",
    "\n",
    "    for script in script_tags:\n",
    "        script_content = script.string\n",
    "        if script_content:\n",
    "            # Use a regular expression to find JSON-like content\n",
    "            json_pattern = re.compile(r'({.*})', re.DOTALL)\n",
    "            matches = json_pattern.findall(script_content)\n",
    "            for match in matches:\n",
    "                try:\n",
    "                    json_data = json.loads(match)\n",
    "                    json_data_list.append(json_data)\n",
    "                except json.JSONDecodeError:\n",
    "                    pass  # Ignore invalid JSON\n",
    "\n",
    "    return json_data_list\n",
    "\n",
    "json_data_list = extract_json_from_html(listing_html)"
   ]
  },
  {
   "cell_type": "code",
   "execution_count": 16,
   "id": "eb5a2e46",
   "metadata": {},
   "outputs": [],
   "source": [
    "from jsonpath_ng import jsonpath, parse\n",
    "paths = {\n",
    "    'name': \"$..name\",\n",
    "    'url': \"$..baseUrl\",\n",
    "    'id': \"$..productId\",\n",
    "    'currency': \"$..currency\",\n",
    "    'price_info_final_price': \"$..price_info.final_price\",  # Example for price\n",
    "    'country_code': \"$..country_code\",\n",
    "    'type': \"$..productType\",\n",
    "    'images': \"$..images\",\n",
    "    'productcode': \"$..productId\"\n",
    "}"
   ]
  },
  {
   "cell_type": "code",
   "execution_count": 17,
   "id": "36532886",
   "metadata": {},
   "outputs": [],
   "source": [
    "extracted_data = {}\n",
    "for key, path in paths.items():\n",
    "    jsonpath_expr = parse(path)\n",
    "    matches = jsonpath_expr.find(json_data_list)\n",
    "    extracted_data[key] = [match.value for match in matches]"
   ]
  },
  {
   "cell_type": "code",
   "execution_count": 18,
   "id": "367961bb",
   "metadata": {},
   "outputs": [
    {
     "data": {
      "text/plain": [
       "{'name': ['DJI Mavic 3 Classic Fly More Kit'],\n",
       " 'url': ['https://doddcamera.com/', 'https://doddcamera.com/'],\n",
       " 'id': ['21217'],\n",
       " 'currency': ['USD', 'USD'],\n",
       " 'price_info_final_price': [649],\n",
       " 'country_code': ['USA'],\n",
       " 'type': ['simple'],\n",
       " 'images': [[{'url': 'https://doddcamera.com/media/catalog/product/cache/7c0512946b1fb1ced7b27d67c72a822f/d/j/dji_mavic_3-_fly_more_kit-1_1.jpg',\n",
       "    'code': 'recently_viewed_products_grid_content_widget',\n",
       "    'height': 335,\n",
       "    'width': 270,\n",
       "    'label': 'DJI Mavic 3 Classic Fly More Kit',\n",
       "    'resized_width': 270,\n",
       "    'resized_height': 335},\n",
       "   {'url': 'https://doddcamera.com/media/catalog/product/cache/247c45a58ca593a31e941c9930dbd355/d/j/dji_mavic_3-_fly_more_kit-1_1.jpg',\n",
       "    'code': 'recently_viewed_products_list_content_widget',\n",
       "    'height': 300,\n",
       "    'width': 300,\n",
       "    'label': 'DJI Mavic 3 Classic Fly More Kit',\n",
       "    'resized_width': 300,\n",
       "    'resized_height': 300},\n",
       "   {'url': 'https://doddcamera.com/media/catalog/product/cache/c045ef02d07a73283985b6d174409c14/d/j/dji_mavic_3-_fly_more_kit-1_1.jpg',\n",
       "    'code': 'recently_viewed_products_images_names_widget',\n",
       "    'height': 90,\n",
       "    'width': 75,\n",
       "    'label': 'DJI Mavic 3 Classic Fly More Kit',\n",
       "    'resized_width': 75,\n",
       "    'resized_height': 90},\n",
       "   {'url': 'https://doddcamera.com/media/catalog/product/cache/247c45a58ca593a31e941c9930dbd355/d/j/dji_mavic_3-_fly_more_kit-1_1.jpg',\n",
       "    'code': 'recently_compared_products_grid_content_widget',\n",
       "    'height': 300,\n",
       "    'width': 300,\n",
       "    'label': 'DJI Mavic 3 Classic Fly More Kit',\n",
       "    'resized_width': 300,\n",
       "    'resized_height': 300},\n",
       "   {'url': 'https://doddcamera.com/media/catalog/product/cache/ee8ca7186b697ef95ee01368d23c2a95/d/j/dji_mavic_3-_fly_more_kit-1_1.jpg',\n",
       "    'code': 'recently_compared_products_list_content_widget',\n",
       "    'height': 207,\n",
       "    'width': 270,\n",
       "    'label': 'DJI Mavic 3 Classic Fly More Kit',\n",
       "    'resized_width': 270,\n",
       "    'resized_height': 207},\n",
       "   {'url': 'https://doddcamera.com/media/catalog/product/cache/c045ef02d07a73283985b6d174409c14/d/j/dji_mavic_3-_fly_more_kit-1_1.jpg',\n",
       "    'code': 'recently_compared_products_images_names_widget',\n",
       "    'height': 90,\n",
       "    'width': 75,\n",
       "    'label': 'DJI Mavic 3 Classic Fly More Kit',\n",
       "    'resized_width': 75,\n",
       "    'resized_height': 90}]],\n",
       " 'productcode': ['21217']}"
      ]
     },
     "execution_count": 18,
     "metadata": {},
     "output_type": "execute_result"
    }
   ],
   "source": [
    "extracted_data"
   ]
  },
  {
   "cell_type": "code",
   "execution_count": null,
   "id": "93c030cc",
   "metadata": {},
   "outputs": [],
   "source": []
  },
  {
   "cell_type": "code",
   "execution_count": null,
   "id": "29e76dcf",
   "metadata": {},
   "outputs": [],
   "source": []
  }
 ],
 "metadata": {
  "kernelspec": {
   "display_name": "Python 3 (ipykernel)",
   "language": "python",
   "name": "python3"
  },
  "language_info": {
   "codemirror_mode": {
    "name": "ipython",
    "version": 3
   },
   "file_extension": ".py",
   "mimetype": "text/x-python",
   "name": "python",
   "nbconvert_exporter": "python",
   "pygments_lexer": "ipython3",
   "version": "3.11.5"
  }
 },
 "nbformat": 4,
 "nbformat_minor": 5
}
