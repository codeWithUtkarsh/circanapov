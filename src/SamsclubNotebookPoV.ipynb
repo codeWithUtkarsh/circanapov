{
 "cells": [
  {
   "cell_type": "code",
   "execution_count": 29,
   "id": "c9c8f1be-f679-4642-b313-3491763adffc",
   "metadata": {},
   "outputs": [],
   "source": [
    "from scrapfly import ScrapflyClient, ScrapeConfig, ScrapflyError\n",
    " \n",
    "scrapfly = ScrapflyClient(key=\"scp-live-01fc8534987042f4a2fe553c5cf6a2df\", max_concurrency=2)\n",
    "url = 'https://www.samsclub.com/p/P03020955'\n",
    "listing_result = scrapfly.scrape(ScrapeConfig(url=url, render_js=True, country=\"US\", asp=True, retry=False, rendering_wait=10000))\n",
    "listing_html = listing_result.scrape_result['content']"
   ]
  },
  {
   "cell_type": "code",
   "execution_count": 30,
   "id": "a1b384a8-306e-40a2-8462-59e931055dbc",
   "metadata": {},
   "outputs": [],
   "source": [
    "from bs4 import BeautifulSoup\n",
    "import re\n",
    "import json\n",
    "def extract_json_from_html(html_content):\n",
    "    soup = BeautifulSoup(html_content, 'html.parser')\n",
    "    script_tags = soup.find_all('script')\n",
    "\n",
    "    json_data_list = []\n",
    "\n",
    "    for script in script_tags:\n",
    "        script_content = script.string\n",
    "        if script_content:\n",
    "            # Use a regular expression to find JSON-like content\n",
    "            json_pattern = re.compile(r'({.*})', re.DOTALL)\n",
    "            matches = json_pattern.findall(script_content)\n",
    "            for match in matches:\n",
    "                try:\n",
    "                    json_data = json.loads(match)\n",
    "                    json_data_list.append(json_data)\n",
    "                except json.JSONDecodeError:\n",
    "                    pass  # Ignore invalid JSON\n",
    "\n",
    "    return json_data_list\n",
    "\n",
    "json_data_list = extract_json_from_html(listing_html)"
   ]
  },
  {
   "cell_type": "code",
   "execution_count": 33,
   "id": "67a5fb57-747d-41ea-8d73-cbc84ebd78f0",
   "metadata": {
    "scrolled": true
   },
   "outputs": [],
   "source": [
    "data = json_data_list[2]['cache']['products']"
   ]
  },
  {
   "cell_type": "code",
   "execution_count": 60,
   "id": "b2cb20a4-90bd-47c0-ba59-ce17f32da2cb",
   "metadata": {
    "scrolled": true
   },
   "outputs": [
    {
     "name": "stdout",
     "output_type": "stream",
     "text": [
      "{\n",
      "  \"productId\": \"P03020955\",\n",
      "  \"productType\": \"NORMALITEM\",\n",
      "  \"productDescription\": \"HP \\u2013 17.3\\\" Full HD IPS Laptop \\u2013 Intel  i5 \\u2013 8GB RAM \\u2013 512GB SSD \\u2013 2-Year HP Care Pack Warranty w/2-Year Accidental Damage Protection - Windows 11\",\n",
      "  \"shortDescription\": \"Operating system: Windows 11 HomeProcessor: 12th Generation Intel  i5-1235UDisplay: 17.3-inch diagonal, FHD (1920 x 1080), IPS, anti-glareMemory: 8 GB DDR4-3200 MHz RAM (2 X 4 GB)\",\n",
      "  \"longDescription\": \"Introducing the HP 17.3\\\" Full HD IPS Laptop, a powerful and reliable device designed to enhance your productivity and entertainment experience. With its impressive specifications and comprehensive warranty, this laptop is a great choice for both work and play. Featuring the latest Windows 11 Home operating system, you'll enjoy a seamless and intuitive user interface that enhances your productivity and creativity. The 12th Generation Intel Core i5-1235U processor ensures smooth performance and efficient multitasking, allowing you to effortlessly handle demanding tasks and applications. The 17.3-inch diagonal Full HD IPS display with a resolution of 1920 x 1080 delivers stunning visuals and vibrant colors. Whether you're watching movies, editing photos, or browsing the web, you'll enjoy crisp and clear images from any angle, thanks to the anti-glare technology. With 8 GB DDR4-3200 MHz RAM, this laptop offers ample memory to handle multitasking and run multiple applications simultaneously. Whether you're working on spreadsheets, creating presentations, or gaming, this laptop can keep up with your demands. The 512GB SSD provides fast and reliable storage, allowing you to store all your files, documents, and media without compromising on speed. Boot up your laptop in seconds and enjoy quick access to your files and applications, making your workflow more efficient. Additionally, this laptop comes with a 2-year HP Care Pack Warranty with 2-year Accidental Damage Protection, giving you peace of mind and ensuring that your device is protected against unexpected damages. With HP's commitment to quality and customer satisfaction, you can trust in the reliability and durability of this laptop. Upgrade your computing experience with the HP 17.3\\\" Full HD IPS Laptop. With its powerful processor, vibrant display, ample memory, and comprehensive warranty, this laptop is designed to meet all your needs. Whether you're a student, professional, or casual user, this laptop is the perfect companion for your daily tasks and entertainment.\",\n",
      "  \"categoryDisplayName\": \"Computers\",\n",
      "  \"url\": \"/p/hp-17-cn2068cl-laptop-anti-glare-11th-generation-intel-core-i5-processor/P03020955\",\n",
      "  \"shippingOption\": \"Standard\",\n",
      "  \"model\": \"8L5Y1UA#ABA\",\n",
      "  \"brand\": \"HP\",\n",
      "  \"componentCountry\": \"Imported\",\n",
      "  \"specification\": \"Monitor Specifications  HP Laptop 17-cn2068cl Processor and Memory Processor Type Intel  i5-1235U Processor Speed 4.4GHz with Intel Turbo Boost Technology Cache 12MB  Memory (RAM) 8 GB Max Memory Expansion Display, Keyboard, Mouse and Webcam Display Size 17.3 Display Type FHD, IPS Antiglare Display Resolution 1920 x 1080 Keyboard Full-size, backlit, soft grey keyboard with numeric keypad Mouse Touchpad Webcam HP True Vision 720p HD camera Hard Drive Hard Drive 512 GB PCIe NVMe M.2 SSD Optical Drive Paste \\\"Value\\\" Here Multimedia Card Slot Paste \\\"Value\\\" Here Paste \\\"Value\\\" Here Graphics and Audio Graphics \\\"\\\"\\\"Intel Iris Xe Graphics HD Audio with stereo speakersValue\\\"\\\" Here\\\" Audio HD Audio Connectivity Ethernet Paste \\\"Value\\\" Here Wi-Fi 802.11a/b/g/n/ac Bluetooth Bluetooth 4.2 Modem Paste \\\"Value\\\" Here Paste \\\"Value\\\" Here Power Battery Type 3-cell, 41 Wh Li-ion Battery Life Up to 9 hours and 45 minutes (video playback) AC Adapter 45w Audio Speakers Stereo speakers Software Operating System Windows 11 Home Manufacturer Software HP QuickDrop Product Weight & Dimensions Assembled Size 15.78 in (W) x 10.15 in (D) x 0.78 in (H) Assembled Weight 4.60 lbs Shipping Info 20.47 in (L) x 2.72 in (W) x 13.58 in (H) 6.5 lbs Warranty Warranty 2 year Care Pack and 2 year Accidental Damage\",\n",
      "  \"skuId\": \"IG03057833\",\n",
      "  \"msrpPrice\": \"549\",\n",
      "  \"generatedUPC\": \"00197497844832\",\n",
      "  \"gtin\": \"19749784483\",\n",
      "  \"inventoryStatus\": \"AVAILABLE\",\n",
      "  \"skuLogisticsLength\": \"20.47\",\n",
      "  \"skuLogisticsWidth\": \"13.58\",\n",
      "  \"skuLogisticsWeight\": \"6.54\",\n",
      "  \"skuLogisticsHeight\": \"2.72\"\n",
      "}\n"
     ]
    }
   ],
   "source": [
    "product = data['P03020955']\n",
    "\n",
    "output = {\n",
    "    'productId': product.get('productId'),\n",
    "    'productType': product.get('productType'),\n",
    "    'productDescription': product.get('descriptors', {}).get('productdescription'),\n",
    "    'shortDescription': product.get('descriptors', {}).get('shortDescription'),\n",
    "    'longDescription': product.get('descriptors', {}).get('longDescription'),\n",
    "    'categoryDisplayName': product.get('category', {}).get('breadcrumbs', [{}])[-1].get('displayName'),\n",
    "    'url': product.get('searchAndSeo', {}).get('url'),\n",
    "    'shippingOption': product.get('shippingOption', {}).get('info'),\n",
    "    'model': product.get('manufacturingInfo', {}).get('model'),\n",
    "    'brand': product.get('manufacturingInfo', {}).get('brand'),\n",
    "    'componentCountry': product.get('manufacturingInfo', {}).get('componentCountry'),\n",
    "    'specification': product.get('manufacturingInfo', {}).get('specification'),\n",
    "    'skuId': product.get('skus', [{}])[0].get('skuId'),\n",
    "    'msrpPrice': product.get('skus', [{}])[0].get('onlineOffer', {}).get('price', {}).get('finalPrice', {}).get('amount'),\n",
    "    'generatedUPC': product.get('skus', [{}])[0].get('onlineOffer', {}).get('generatedUPC'),\n",
    "    'gtin': product.get('skus', [{}])[0].get('onlineOffer', {}).get('gtin'),\n",
    "    'inventoryStatus': product.get('skus', [{}])[0].get('onlineOffer', {}).get('inventory', {}).get('status'),\n",
    "    'skuLogisticsLength': product.get('skus', [{}])[0].get('skuLogistics', {}).get('length', {}).get('value'),\n",
    "    'skuLogisticsWidth': product.get('skus', [{}])[0].get('skuLogistics', {}).get('width', {}).get('value'),\n",
    "    'skuLogisticsWeight': product.get('skus', [{}])[0].get('skuLogistics', {}).get('weight', {}).get('value'),\n",
    "    'skuLogisticsHeight': product.get('skus', [{}])[0].get('skuLogistics', {}).get('height', {}).get('value')\n",
    "}\n",
    "# Printing key-value pairs as JSON format\n",
    "print(\"{\")\n",
    "for i, (key, value) in enumerate(output.items()):\n",
    "    # Convert non-string values to JSON-like format, handle None values\n",
    "    value = str(value)\n",
    "    value = re.sub(r'</?[^>]+>', '', value)\n",
    "    value = re.sub(r'[\\t\\n]+', ' ', value).strip()\n",
    "    value = re.sub(r'[\\u00ae\\u2122]|Core\\u2122', '', value).strip()\n",
    "    formatted_value = json.dumps(value) if value is not None else \"null\"\n",
    "    # Add a comma after each item, except the last one\n",
    "    comma = \",\" if i < len(output) - 1 else \"\"\n",
    "    print(f'  \"{key}\": {formatted_value}{comma}')\n",
    "print(\"}\")"
   ]
  },
  {
   "cell_type": "code",
   "execution_count": null,
   "id": "73b76fcf-80dd-42c2-8af4-1bcdce1154e4",
   "metadata": {},
   "outputs": [],
   "source": []
  }
 ],
 "metadata": {
  "kernelspec": {
   "display_name": "Python 3 (ipykernel)",
   "language": "python",
   "name": "python3"
  },
  "language_info": {
   "codemirror_mode": {
    "name": "ipython",
    "version": 3
   },
   "file_extension": ".py",
   "mimetype": "text/x-python",
   "name": "python",
   "nbconvert_exporter": "python",
   "pygments_lexer": "ipython3",
   "version": "3.11.5"
  }
 },
 "nbformat": 4,
 "nbformat_minor": 5
}
