{
 "cells": [
  {
   "cell_type": "code",
   "execution_count": 1,
   "id": "c9c8f1be-f679-4642-b313-3491763adffc",
   "metadata": {},
   "outputs": [],
   "source": [
    "from scrapfly import ScrapflyClient, ScrapeConfig, ScrapflyError\n",
    " \n",
    "scrapfly = ScrapflyClient(key=\"scp-live-01fc8534987042f4a2fe553c5cf6a2df\", max_concurrency=2)\n",
    "url = 'https://www.officedepot.com/a/products/3587544'\n",
    "listing_result = scrapfly.scrape(ScrapeConfig(url=url, render_js=True, country=\"US\", asp=True, retry=False, rendering_wait=10000))\n",
    "listing_html = listing_result.scrape_result['content']"
   ]
  },
  {
   "cell_type": "code",
   "execution_count": 2,
   "id": "a1b384a8-306e-40a2-8462-59e931055dbc",
   "metadata": {},
   "outputs": [],
   "source": [
    "from bs4 import BeautifulSoup\n",
    "import re\n",
    "import json\n",
    "def extract_json_from_html(html_content):\n",
    "    soup = BeautifulSoup(html_content, 'html.parser')\n",
    "    script_tags = soup.find_all('script')\n",
    "\n",
    "    json_data_list = []\n",
    "\n",
    "    for script in script_tags:\n",
    "        script_content = script.string\n",
    "        if script_content:\n",
    "            # Use a regular expression to find JSON-like content\n",
    "            json_pattern = re.compile(r'({.*})', re.DOTALL)\n",
    "            matches = json_pattern.findall(script_content)\n",
    "            for match in matches:\n",
    "                try:\n",
    "                    json_data = json.loads(match)\n",
    "                    json_data_list.append(json_data)\n",
    "                except json.JSONDecodeError:\n",
    "                    pass  # Ignore invalid JSON\n",
    "\n",
    "    return json_data_list\n",
    "\n",
    "json_data_list = extract_json_from_html(listing_html)"
   ]
  },
  {
   "cell_type": "code",
   "execution_count": 36,
   "id": "866d33aa",
   "metadata": {
    "scrolled": true
   },
   "outputs": [],
   "source": [
    "item5_data = json_data_list[5]"
   ]
  },
  {
   "cell_type": "code",
   "execution_count": 53,
   "id": "bfadc4b5",
   "metadata": {},
   "outputs": [],
   "source": [
    "image_url = item5_data['MasterTmsUdo']['prod_img']\n",
    "category_id = item5_data['MasterTmsUdo']['category_id']"
   ]
  },
  {
   "cell_type": "code",
   "execution_count": 49,
   "id": "e0cb5d1e",
   "metadata": {},
   "outputs": [],
   "source": [
    "data = json_data_list[6]"
   ]
  },
  {
   "cell_type": "code",
   "execution_count": null,
   "id": "cae397df",
   "metadata": {},
   "outputs": [],
   "source": []
  },
  {
   "cell_type": "code",
   "execution_count": 56,
   "id": "851cf49e",
   "metadata": {},
   "outputs": [
    {
     "name": "stdout",
     "output_type": "stream",
     "text": [
      "{\n",
      "    \"ProductName\": \"ASUS Vivobook Go E1504FA-OS36 Laptop, 15.6&quot; Screen, AMD Ryzen 3, AI Enabled, 8GB Memory, 512GB Solid State Drive, Windows&reg; 11 Home,\",\n",
      "    \"sku\": \"3587544\",\n",
      "    \"description\": \"Choose this ASUS Vivobook Go AI Enabled laptop to elevate your tech game to outstanding new heights. Embrace a future where cutting-edge technology meets human-like intelligence&mdash;exploring territories such as language comprehension, image recognition, and independent decision-making. This technology wonder doesn't just perform tasks; it evolves, learning from every interaction to serve you better with each use. Engage in seamless communication, whether through voice or text, and witness the magic of technology that 'listens' and 'understands' your needs. With the ability to interpret visuals without human sight, your laptop surpasses boundaries, offering insights and predictions by connecting the dots from your digital world. Imagine a world where your laptop isn't just a tool, but a visionary companion capable of self-decision making and predicting future trends based on past events. Possessing this AI-enabled laptop is not just an upgrade&mdash;it's like having a personal assistant that's always one step ahead.\",\n",
      "    \"category_name\": \"Laptop Computers\",\n",
      "    \"category_id\": \"1462020\",\n",
      "    \"brand\": \"ASUS\",\n",
      "    \"color\": \"Mixed Black\",\n",
      "    \"sub_category_url\": \"/b/pc-laptops/N-1462026\",\n",
      "    \"image_content_url\": \"https://media.officedepot.com/images/f_auto,q_auto,e_sharpen,h_450/products/3587544/3587544_o01/3587544_o01.jpg\",\n",
      "    \"price_currency\": \"USD\",\n",
      "    \"price\": \"259.99\",\n",
      "    \"item_condition\": \"https://schema.org/NewCondition\",\n",
      "    \"availability\": \"https://schema.org/InStock\",\n",
      "    \"seller_name\": \"Office Depot\",\n",
      "    \"mpn\": \"E1504FA-OS36\",\n",
      "    \"image_url\": \"https://media.officedepot.com/images//t_large,f_auto/products/3587544/ASUS-Vivobook-Go-E1504FA-OS36-Laptop\"\n",
      "}\n"
     ]
    }
   ],
   "source": [
    "extracted_data = {\n",
    "    'ProductName': data.get('name'),\n",
    "    'sku': data.get('sku'),\n",
    "    'description': data.get('description'),\n",
    "    'category_name': data['breadcrumbs'][2]['name'] if len(data['breadcrumbs']) > 2 else None,\n",
    "    'category_id' : category_id,\n",
    "    'brand': data.get('brand'),\n",
    "    'color': data.get('color'),\n",
    "    'sub_category_url': data['breadcrumbs'][3]['url'] if len(data['breadcrumbs']) > 3 else None,\n",
    "    'image_content_url': data['image'].get('contentUrl'),\n",
    "    'price_currency': data['offers'].get('priceCurrency'),\n",
    "    'price': data['offers'].get('price'),\n",
    "    'item_condition': data['offers'].get('itemCondition'),\n",
    "    'availability': data['offers'].get('availability'),\n",
    "    'seller_name': data['offers']['seller'].get('name'),\n",
    "    'mpn': data.get('mpn'),\n",
    "    'image_url':image_url\n",
    "}\n",
    "\n",
    "# Print the extracted data\n",
    "print(json.dumps(extracted_data, indent=4))"
   ]
  },
  {
   "cell_type": "code",
   "execution_count": null,
   "id": "d7644e7c",
   "metadata": {},
   "outputs": [],
   "source": []
  }
 ],
 "metadata": {
  "kernelspec": {
   "display_name": "Python 3 (ipykernel)",
   "language": "python",
   "name": "python3"
  },
  "language_info": {
   "codemirror_mode": {
    "name": "ipython",
    "version": 3
   },
   "file_extension": ".py",
   "mimetype": "text/x-python",
   "name": "python",
   "nbconvert_exporter": "python",
   "pygments_lexer": "ipython3",
   "version": "3.11.5"
  }
 },
 "nbformat": 4,
 "nbformat_minor": 5
}
