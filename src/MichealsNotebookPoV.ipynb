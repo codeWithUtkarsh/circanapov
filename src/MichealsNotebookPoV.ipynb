{
 "cells": [
  {
   "cell_type": "code",
   "execution_count": 1,
   "id": "c9c8f1be-f679-4642-b313-3491763adffc",
   "metadata": {},
   "outputs": [],
   "source": [
    "from scrapfly import ScrapflyClient, ScrapeConfig, ScrapflyError\n",
    " \n",
    "scrapfly = ScrapflyClient(key=\"scp-live-01fc8534987042f4a2fe553c5cf6a2df\", max_concurrency=2)\n",
    "url = 'https://www.michaels.com/product/40oz-stainless-steel-insulated-tumbler-by-ashland-10751061'\n",
    "listing_result = scrapfly.scrape(ScrapeConfig(url=url, render_js=True, country=\"US\", asp=True, retry=False, rendering_wait=10000))\n",
    "listing_html = listing_result.scrape_result['content']"
   ]
  },
  {
   "cell_type": "code",
   "execution_count": 2,
   "id": "a1b384a8-306e-40a2-8462-59e931055dbc",
   "metadata": {},
   "outputs": [],
   "source": [
    "from bs4 import BeautifulSoup\n",
    "import re\n",
    "import json\n",
    "def extract_json_from_html(html_content):\n",
    "    soup = BeautifulSoup(html_content, 'html.parser')\n",
    "    script_tags = soup.find_all('script')\n",
    "\n",
    "    json_data_list = []\n",
    "\n",
    "    for script in script_tags:\n",
    "        script_content = script.string\n",
    "        if script_content:\n",
    "            # Use a regular expression to find JSON-like content\n",
    "            json_pattern = re.compile(r'({.*})', re.DOTALL)\n",
    "            matches = json_pattern.findall(script_content)\n",
    "            for match in matches:\n",
    "                try:\n",
    "                    json_data = json.loads(match)\n",
    "                    json_data_list.append(json_data)\n",
    "                except json.JSONDecodeError:\n",
    "                    pass  # Ignore invalid JSON\n",
    "\n",
    "    return json_data_list\n",
    "\n",
    "json_data_list = extract_json_from_html(listing_html)"
   ]
  },
  {
   "cell_type": "code",
   "execution_count": 6,
   "id": "bb2ae737",
   "metadata": {},
   "outputs": [],
   "source": [
    "data = json_data_list[1]"
   ]
  },
  {
   "cell_type": "code",
   "execution_count": 9,
   "id": "a434d629",
   "metadata": {},
   "outputs": [],
   "source": [
    "sellername = None\n",
    "site_url = None\n",
    "\n",
    "for index in range(2):  # Assuming only the first two indices are relevant\n",
    "    # Ensure the index is valid and that the 'name' is not None\n",
    "    if index < len(json_data_list) and json_data_list[index].get('name') is not None:\n",
    "        # Check if the current product name matches the desired one\n",
    "            product_data = json_data_list[index]\n",
    "            \n",
    "            # Attempt to populate sellername and site_url if they exist\n",
    "            if index + 1 < len(json_data_list):\n",
    "                sellername = json_data_list[index + 1].get('@graph', [{}])[0].get('name')\n",
    "                site_url = json_data_list[index + 1].get('@graph', [{}])[0].get('url')\n",
    "\n",
    "            break\n"
   ]
  },
  {
   "cell_type": "code",
   "execution_count": 11,
   "id": "9f972019",
   "metadata": {},
   "outputs": [
    {
     "name": "stdout",
     "output_type": "stream",
     "text": [
      "{\n",
      "  \"name\": \"40oz. Stainless Steel Insulated Tumbler by Ashland\\u00ae\",\n",
      "  \"url\": \"https://www.michaels.com/product/40oz-stainless-steel-insulated-tumbler-by-ashland-10751061\",\n",
      "  \"description\": \"Enjoy your favorite hot or cold beverage in this stainless steel tumbler. Perfect for personal use or to give as a gift, this large capacity tumbler has a convenient handle so you can take your drink on the go. Add personalized touches to your tumbler by using vinyl to make it one of a kind!Details:Available in multiple colors40 fl. oz. (1.18 L)Wash prior to first useLid is top rack dishwasher safeHand wash stainless steel vesselDo not use any abrasivesStraw or sip lidLeak proofFits in cup holdersBPA freeStainless steel, plastic and siliconeWARNING: Do not use in microwave or convection oven. Do not place in freezer. Keep out of reach of children when tumbler has hot liquid inside. Do not use straw for hot beverages.\",\n",
      "  \"category\": \"Travel Drinkware\",\n",
      "  \"color\": \"Yellow\",\n",
      "  \"brand_name\": \"Ashland\",\n",
      "  \"image\": [\n",
      "    \"https://imgs.michaels.com/MAM/assets/1/5E3C12034D34434F8A9BAAFDDF0F8E1B/img/4211FE90A1A1499097A573D8A3C24225/10751061_1.jpg?fit=inside|540:540\",\n",
      "    \"https://imgs.michaels.com/MAM/assets/1/5E3C12034D34434F8A9BAAFDDF0F8E1B/img/EC9192D5EA3642F1B239691AB0AA6FF9/10751061_2.jpg?fit=inside|540:540\"\n",
      "  ],\n",
      "  \"related_urls\": [\n",
      "    \"https://www.michaels.com/product/40oz-stainless-steel-insulated-tumbler-by-ashland-10751058\",\n",
      "    \"https://www.michaels.com/product/40oz-stainless-steel-insulated-tumbler-by-ashland-10741057\",\n",
      "    \"https://www.michaels.com/product/40oz-stainless-steel-insulated-tumbler-by-ashland-10741259\",\n",
      "    \"https://www.michaels.com/product/40oz-stainless-steel-insulated-tumbler-by-ashland-10741059\",\n",
      "    \"https://www.michaels.com/product/40oz-stainless-steel-insulated-tumbler-by-ashland-10741060\",\n",
      "    \"https://www.michaels.com/product/40oz-stainless-steel-insulated-tumbler-by-ashland-10751057\",\n",
      "    \"https://www.michaels.com/product/40oz-stainless-steel-insulated-tumbler-by-ashland-10751063\",\n",
      "    \"https://www.michaels.com/product/40oz-stainless-steel-insulated-tumbler-by-ashland-10741063\",\n",
      "    \"https://www.michaels.com/product/40oz-stainless-steel-insulated-tumbler-by-ashland-10751062\",\n",
      "    \"https://www.michaels.com/product/40oz-stainless-steel-insulated-tumbler-by-ashland-10741256\",\n",
      "    \"https://www.michaels.com/product/40oz-stainless-steel-insulated-tumbler-by-ashland-10751061\",\n",
      "    \"https://www.michaels.com/product/40oz-stainless-steel-insulated-tumbler-by-ashland-10741061\",\n",
      "    \"https://www.michaels.com/product/40oz-stainless-steel-insulated-tumbler-by-ashland-10741064\",\n",
      "    \"https://www.michaels.com/product/40oz-stainless-steel-insulated-tumbler-by-ashland-10741307\",\n",
      "    \"https://www.michaels.com/product/40oz-stainless-steel-insulated-tumbler-by-ashland-10751060\",\n",
      "    \"https://www.michaels.com/product/40oz-stainless-steel-insulated-tumbler-by-ashland-10741308\",\n",
      "    \"https://www.michaels.com/product/40oz-stainless-steel-insulated-tumbler-by-ashland-10741258\"\n",
      "  ],\n",
      "  \"currency\": \"USD\",\n",
      "  \"price\": \"9.99\",\n",
      "  \"price_valid_until\": \"2025-10-01\",\n",
      "  \"item_condition\": \"http://schema.org/NewCondition\",\n",
      "  \"rating_value\": 4.8208\n",
      "}\n"
     ]
    }
   ],
   "source": [
    "extracted_values = {\n",
    "    'name': product_data.get('name', None),\n",
    "    'url': product_data.get('url', None),\n",
    "    'description': product_data.get('description', None),\n",
    "    'category': product_data.get('category', None),\n",
    "    'color': product_data.get('color', None),\n",
    "    'brand_name': product_data.get('brand', {}).get('name', None),\n",
    "    'image': product_data.get('image', None),\n",
    "    'related_urls': product_data.get('isRelatedTo', {}).get('url', []),\n",
    "    'currency': product_data.get('offers', {}).get('priceCurrency', None),\n",
    "    'price': product_data.get('offers', {}).get('price', None),\n",
    "    'price_valid_until': product_data.get('offers', {}).get('priceValidUntil', None),\n",
    "    'item_condition': product_data.get('offers', {}).get('itemCondition', None),\n",
    "    'rating_value': product_data.get('aggregateRating', {}).get('ratingValue', None),\n",
    "}\n",
    "\n",
    "# Print extracted values\n",
    "print(json.dumps(extracted_values, indent=2))"
   ]
  },
  {
   "cell_type": "code",
   "execution_count": null,
   "id": "c12d26bb",
   "metadata": {},
   "outputs": [],
   "source": []
  },
  {
   "cell_type": "code",
   "execution_count": null,
   "id": "7f1e36c7",
   "metadata": {},
   "outputs": [],
   "source": []
  }
 ],
 "metadata": {
  "kernelspec": {
   "display_name": "Python 3 (ipykernel)",
   "language": "python",
   "name": "python3"
  },
  "language_info": {
   "codemirror_mode": {
    "name": "ipython",
    "version": 3
   },
   "file_extension": ".py",
   "mimetype": "text/x-python",
   "name": "python",
   "nbconvert_exporter": "python",
   "pygments_lexer": "ipython3",
   "version": "3.11.5"
  }
 },
 "nbformat": 4,
 "nbformat_minor": 5
}
