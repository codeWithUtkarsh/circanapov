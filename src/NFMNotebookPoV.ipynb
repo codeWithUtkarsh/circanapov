{
 "cells": [
  {
   "cell_type": "code",
   "execution_count": 3,
   "id": "c9c8f1be-f679-4642-b313-3491763adffc",
   "metadata": {},
   "outputs": [],
   "source": [
    "from scrapfly import ScrapflyClient, ScrapeConfig, ScrapflyError\n",
    "from jsonpath_ng import jsonpath, parse\n",
    " \n",
    "scrapfly = ScrapflyClient(key=\"scp-live-01fc8534987042f4a2fe553c5cf6a2df\", max_concurrency=2)\n",
    "url = 'https://www.nfm.com/canon-eos-r50-rf-s18-45mm-f4-5-6-3-is-stm-lens-kit-black-mirrorless-camera-64075492/64075492.html'\n",
    "listing_result = scrapfly.scrape(ScrapeConfig(url=url, render_js=True, country=\"US\", asp=True, retry=False, rendering_wait=10000))\n",
    "listing_html = listing_result.scrape_result['content']"
   ]
  },
  {
   "cell_type": "code",
   "execution_count": 4,
   "id": "a1b384a8-306e-40a2-8462-59e931055dbc",
   "metadata": {},
   "outputs": [],
   "source": [
    "from bs4 import BeautifulSoup\n",
    "import re\n",
    "import json\n",
    "def extract_json_from_html(html_content):\n",
    "    soup = BeautifulSoup(html_content, 'html.parser')\n",
    "    script_tags = soup.find_all('script')\n",
    "\n",
    "    json_data_list = []\n",
    "\n",
    "    for script in script_tags:\n",
    "        script_content = script.string\n",
    "        if script_content:\n",
    "            # Use a regular expression to find JSON-like content\n",
    "            json_pattern = re.compile(r'({.*})', re.DOTALL)\n",
    "            matches = json_pattern.findall(script_content)\n",
    "            for match in matches:\n",
    "                try:\n",
    "                    json_data = json.loads(match)\n",
    "                    json_data_list.append(json_data)\n",
    "                except json.JSONDecodeError:\n",
    "                    pass  # Ignore invalid JSON\n",
    "\n",
    "    return json_data_list\n",
    "\n",
    "json_data_list = extract_json_from_html(listing_html)"
   ]
  },
  {
   "cell_type": "code",
   "execution_count": 17,
   "id": "579d62d3",
   "metadata": {},
   "outputs": [
    {
     "data": {
      "text/plain": [
       "[{},\n",
       " {},\n",
       " {'@context': 'http://schema.org/',\n",
       "  '@type': 'Product',\n",
       "  'name': 'Canon EOS R50 RF-S18-45mm F4.5-6.3 IS STM Lens Kit (Black) Mirrorless Camera',\n",
       "  'mpn': '5811C012',\n",
       "  'sku': '64075492',\n",
       "  'description': '\\n24.2 Megapixel CMOS (APS-C) sensor\\n4K uncropped movie at up to 30 fps oversampled from 6K\\nDual Pixel CMOS AF II\\nMovie for Close-up Demo Mode\\n12 fps Electronic First Curtain and 15 fps Electronic Shutter Continuous shooting\\nAdvanced A+ Assist with expanded array of auto-compatible scenes\\nLonger than 30min video recording\\nUVC/UAC compatibility for webcam and streaming\\n\\nIn the Box\\n\\nEOS R50 Body (BK)\\nCamera Cover R-F-5\\nNeck Strap EM-200DB\\nBattery Charger LC-E17\\nBattery Pack LP-E17\\nBattery Pack Cover\\nRF-S18-45mm F4.5-6.3 IS STM\\nLens Cap E-49\\nLens Dust Cap\\nRF Shoe Cover\\n \\n',\n",
       "  'aggregateRating': {'@type': 'AggregateRating',\n",
       "   'ratingValue': 4,\n",
       "   'reviewCount': 14},\n",
       "  'brand': {'@type': 'Brand', 'name': 'Canon'},\n",
       "  'gtin12': '013803351415',\n",
       "  'image': ['https://www.nfm.com/dw/image/v2/BDFM_PRD/on/demandware.static/-/Sites-nfm-master-catalog/default/dw761964be/images/064/07/64075492-1.jpg?sw=1000&sh=1000&sm=fit',\n",
       "   'https://www.nfm.com/dw/image/v2/BDFM_PRD/on/demandware.static/-/Sites-nfm-master-catalog/default/dw6d5f8649/images/064/07/64075492-2.jpg?sw=1000&sh=1000&sm=fit',\n",
       "   'https://www.nfm.com/dw/image/v2/BDFM_PRD/on/demandware.static/-/Sites-nfm-master-catalog/default/dw680712ca/images/064/07/64075492-3.jpg?sw=1000&sh=1000&sm=fit',\n",
       "   'https://www.nfm.com/dw/image/v2/BDFM_PRD/on/demandware.static/-/Sites-nfm-master-catalog/default/dw0bd5a952/images/064/07/64075492-4.jpg?sw=1000&sh=1000&sm=fit',\n",
       "   'https://www.nfm.com/dw/image/v2/BDFM_PRD/on/demandware.static/-/Sites-nfm-master-catalog/default/dw8f3eeb0e/images/064/07/64075492-5.jpg?sw=1000&sh=1000&sm=fit',\n",
       "   'https://www.nfm.com/dw/image/v2/BDFM_PRD/on/demandware.static/-/Sites-nfm-master-catalog/default/dw9f2ae4fc/images/064/07/64075492-6.jpg?sw=1000&sh=1000&sm=fit'],\n",
       "  'offers': {'url': {},\n",
       "   '@type': 'Offer',\n",
       "   'priceCurrency': 'USD',\n",
       "   'price': '749.99',\n",
       "   'availability': 'http://schema.org/InStock'},\n",
       "  '@id': '64075492'},\n",
       " {},\n",
       " {}]"
      ]
     },
     "execution_count": 17,
     "metadata": {},
     "output_type": "execute_result"
    }
   ],
   "source": [
    "json_data_list"
   ]
  },
  {
   "cell_type": "code",
   "execution_count": 21,
   "id": "eb5a2e46",
   "metadata": {},
   "outputs": [],
   "source": [
    "from jsonpath_ng import jsonpath, parse\n",
    "paths = {\n",
    "    'productName': \"$..name\",\n",
    "    'mpn': \"$..mpn\",\n",
    "    'sku': \"$..sku\",\n",
    "    'description': \"$..description\",\n",
    "    \"rating\" :\"$..aggregateRating.ratingValue\",\n",
    "    \"brand\" :\"$..brand.name\",\n",
    "    \"upc\" :\"$..gtin12\",\n",
    "    \"image\" :\"$..image\",\n",
    "    'currency': \"$..offers.priceCurrency\",\n",
    "    'price': \"$..offers.price\",  # Example for price\n",
    "    'availability': \"$..offers.availability\",\n",
    "    'productId': \"$..@id\"\n",
    "}"
   ]
  },
  {
   "cell_type": "code",
   "execution_count": 19,
   "id": "36532886",
   "metadata": {},
   "outputs": [],
   "source": [
    "extracted_data = {}\n",
    "for key, path in paths.items():\n",
    "    jsonpath_expr = parse(path)\n",
    "    matches = jsonpath_expr.find(json_data_list)\n",
    "    extracted_data[key] = [match.value for match in matches]"
   ]
  },
  {
   "cell_type": "code",
   "execution_count": 20,
   "id": "367961bb",
   "metadata": {},
   "outputs": [
    {
     "data": {
      "text/plain": [
       "{'productName': ['Canon EOS R50 RF-S18-45mm F4.5-6.3 IS STM Lens Kit (Black) Mirrorless Camera',\n",
       "  'Canon'],\n",
       " 'mpn': ['5811C012'],\n",
       " 'sku': ['64075492'],\n",
       " 'description': ['\\n24.2 Megapixel CMOS (APS-C) sensor\\n4K uncropped movie at up to 30 fps oversampled from 6K\\nDual Pixel CMOS AF II\\nMovie for Close-up Demo Mode\\n12 fps Electronic First Curtain and 15 fps Electronic Shutter Continuous shooting\\nAdvanced A+ Assist with expanded array of auto-compatible scenes\\nLonger than 30min video recording\\nUVC/UAC compatibility for webcam and streaming\\n\\nIn the Box\\n\\nEOS R50 Body (BK)\\nCamera Cover R-F-5\\nNeck Strap EM-200DB\\nBattery Charger LC-E17\\nBattery Pack LP-E17\\nBattery Pack Cover\\nRF-S18-45mm F4.5-6.3 IS STM\\nLens Cap E-49\\nLens Dust Cap\\nRF Shoe Cover\\n \\n'],\n",
       " 'rating': [4],\n",
       " 'brand': ['Canon'],\n",
       " 'upc': ['013803351415'],\n",
       " 'image': [['https://www.nfm.com/dw/image/v2/BDFM_PRD/on/demandware.static/-/Sites-nfm-master-catalog/default/dw761964be/images/064/07/64075492-1.jpg?sw=1000&sh=1000&sm=fit',\n",
       "   'https://www.nfm.com/dw/image/v2/BDFM_PRD/on/demandware.static/-/Sites-nfm-master-catalog/default/dw6d5f8649/images/064/07/64075492-2.jpg?sw=1000&sh=1000&sm=fit',\n",
       "   'https://www.nfm.com/dw/image/v2/BDFM_PRD/on/demandware.static/-/Sites-nfm-master-catalog/default/dw680712ca/images/064/07/64075492-3.jpg?sw=1000&sh=1000&sm=fit',\n",
       "   'https://www.nfm.com/dw/image/v2/BDFM_PRD/on/demandware.static/-/Sites-nfm-master-catalog/default/dw0bd5a952/images/064/07/64075492-4.jpg?sw=1000&sh=1000&sm=fit',\n",
       "   'https://www.nfm.com/dw/image/v2/BDFM_PRD/on/demandware.static/-/Sites-nfm-master-catalog/default/dw8f3eeb0e/images/064/07/64075492-5.jpg?sw=1000&sh=1000&sm=fit',\n",
       "   'https://www.nfm.com/dw/image/v2/BDFM_PRD/on/demandware.static/-/Sites-nfm-master-catalog/default/dw9f2ae4fc/images/064/07/64075492-6.jpg?sw=1000&sh=1000&sm=fit']],\n",
       " 'currency': ['USD'],\n",
       " 'price': ['749.99'],\n",
       " 'availability': ['http://schema.org/InStock'],\n",
       " 'productId': ['64075492']}"
      ]
     },
     "execution_count": 20,
     "metadata": {},
     "output_type": "execute_result"
    }
   ],
   "source": [
    "extracted_data"
   ]
  },
  {
   "cell_type": "code",
   "execution_count": null,
   "id": "93c030cc",
   "metadata": {},
   "outputs": [],
   "source": []
  },
  {
   "cell_type": "code",
   "execution_count": null,
   "id": "29e76dcf",
   "metadata": {},
   "outputs": [],
   "source": []
  }
 ],
 "metadata": {
  "kernelspec": {
   "display_name": "Python 3 (ipykernel)",
   "language": "python",
   "name": "python3"
  },
  "language_info": {
   "codemirror_mode": {
    "name": "ipython",
    "version": 3
   },
   "file_extension": ".py",
   "mimetype": "text/x-python",
   "name": "python",
   "nbconvert_exporter": "python",
   "pygments_lexer": "ipython3",
   "version": "3.11.5"
  }
 },
 "nbformat": 4,
 "nbformat_minor": 5
}
